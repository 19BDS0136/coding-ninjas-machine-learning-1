{
 "cells": [
  {
   "cell_type": "code",
   "execution_count": 25,
   "metadata": {},
   "outputs": [],
   "source": [
    "import numpy as np\n",
    "import matplotlib.pyplot as plt"
   ]
  },
  {
   "cell_type": "code",
   "execution_count": 4,
   "metadata": {},
   "outputs": [],
   "source": [
    "data = np.loadtxt(\"Boston-Training-Data.csv\",delimiter=\",\")"
   ]
  },
  {
   "cell_type": "code",
   "execution_count": 7,
   "metadata": {},
   "outputs": [],
   "source": [
    "X = data[:,0:13]\n",
    "Y = data[:,13]"
   ]
  },
  {
   "cell_type": "code",
   "execution_count": 8,
   "metadata": {},
   "outputs": [
    {
     "data": {
      "text/plain": [
       "((379, 13), (379,))"
      ]
     },
     "execution_count": 8,
     "metadata": {},
     "output_type": "execute_result"
    }
   ],
   "source": [
    "X.shape,Y.shape"
   ]
  },
  {
   "cell_type": "code",
   "execution_count": 9,
   "metadata": {},
   "outputs": [],
   "source": [
    "X_ = np.append(X,np.ones(X.shape[0]).reshape(-1,1),axis=1)"
   ]
  },
  {
   "cell_type": "code",
   "execution_count": 10,
   "metadata": {},
   "outputs": [
    {
     "data": {
      "text/plain": [
       "(379, 14)"
      ]
     },
     "execution_count": 10,
     "metadata": {},
     "output_type": "execute_result"
    }
   ],
   "source": [
    "X_.shape"
   ]
  },
  {
   "cell_type": "code",
   "execution_count": 11,
   "metadata": {},
   "outputs": [],
   "source": [
    "def cost(X_train,m,Y_train):\n",
    "    cost_ = 0\n",
    "    N = X_train.shape[0]\n",
    "    for i in range(N):\n",
    "        cost_ += (1/N)*((Y_train[i]-((X_train[i]*m).sum()))**2)\n",
    "    return cost_"
   ]
  },
  {
   "cell_type": "code",
   "execution_count": 12,
   "metadata": {},
   "outputs": [],
   "source": [
    "def step_gradient(X_train,Y_train,m,lr):\n",
    "    \n",
    "    slope_m = np.zeros(X_train.shape[1])\n",
    "    N = X_train.shape[0]\n",
    "    \n",
    "    for i in range(N):\n",
    "        slope_m += (2/N)*(Y_train[i]-(m*X_train[i]).sum())*(-X_train[i])\n",
    "        \n",
    "    m = m - (lr * slope_m)\n",
    "    \n",
    "    return m"
   ]
  },
  {
   "cell_type": "code",
   "execution_count": 17,
   "metadata": {},
   "outputs": [],
   "source": [
    "def fit(X_train,Y_train,lr=0.001,epochs=100,verbose=False):\n",
    "    m = np.zeros(X_train.shape[1])\n",
    "    last_m = m\n",
    "    cost_array = []\n",
    "    unit = epochs//100\n",
    "    for i in range(epochs+1):\n",
    "        last_m = m\n",
    "        m = step_gradient(X_train,Y_train,m,lr)\n",
    "        cost_ = cost(X_train,m,Y_train)\n",
    "        \n",
    "        #verbose is used to only show the learning process if required, else it is False by default\n",
    "        if verbose and i%unit==0:\n",
    "            print(\"epoch:\",i,\"cost:\",cost_)\n",
    "            cost_array.append(cost_)\n",
    "    \n",
    "    #To continue the learning loop incase the current epoch and learning parameters doesn't lead to saturation\n",
    "    cont = input(\"Do you want to continue?:\")\n",
    "        \n",
    "    while cont==\"y\":\n",
    "        clear_output(wait=True)\n",
    "        epochs = int(input(\"Please enter the number of epochs to continue for:\"))\n",
    "        unit = int(input(\"Please enter the unit point for epochs:\"))\n",
    "        lr_factor = float(input(\"Please enter the decay factor for the learning rate:\"))\n",
    "        lr*=lr_factor\n",
    "        for i in range(epochs+1):\n",
    "            last_m = m\n",
    "            m = step_gradient(X_train,Y_train,m,lr)\n",
    "            cost_ = cost(X_train,m,Y_train)\n",
    "            if verbose and i%unit==0:\n",
    "                print(\"epoch:\",i,\"cost:\",cost_)\n",
    "                cost_array.append(cost_)\n",
    "        cont = input(\"Do you want to continue?:\")\n",
    "        \n",
    "    return m,cost_array"
   ]
  },
  {
   "cell_type": "code",
   "execution_count": 14,
   "metadata": {},
   "outputs": [],
   "source": [
    "def predict(X_test,m):\n",
    "    y_pred = []\n",
    "    for i in range(X_test.shape[0]):\n",
    "        y_pred.append((X_test[i]*m).sum())\n",
    "    return np.array(y_pred)"
   ]
  },
  {
   "cell_type": "code",
   "execution_count": 15,
   "metadata": {},
   "outputs": [],
   "source": [
    "def score(Y_true,Y_pred):\n",
    "    u = ((Y_true-Y_pred)**2).sum()\n",
    "    v = ((Y_true-(Y_true.mean()))**2).sum()\n",
    "    return 1-(u/v)"
   ]
  },
  {
   "cell_type": "code",
   "execution_count": 23,
   "metadata": {},
   "outputs": [
    {
     "name": "stdout",
     "output_type": "stream",
     "text": [
      "epoch: 0 cost: 374.24035597919686\n",
      "epoch: 10 cost: 29.457161634001743\n",
      "epoch: 20 cost: 24.56315514362143\n",
      "epoch: 30 cost: 24.028363158977218\n",
      "epoch: 40 cost: 23.797447675836793\n",
      "epoch: 50 cost: 23.676545625233352\n",
      "epoch: 60 cost: 23.607417751606427\n",
      "epoch: 70 cost: 23.564988825906966\n",
      "epoch: 80 cost: 23.537363570351094\n",
      "epoch: 90 cost: 23.51850635541158\n",
      "epoch: 100 cost: 23.50516504014468\n",
      "epoch: 110 cost: 23.495479815294544\n",
      "epoch: 120 cost: 23.488322392561372\n",
      "epoch: 130 cost: 23.482969340094932\n",
      "epoch: 140 cost: 23.4789340646946\n",
      "epoch: 150 cost: 23.47587649070281\n",
      "epoch: 160 cost: 23.473552020536623\n",
      "epoch: 170 cost: 23.471781095996505\n",
      "epoch: 180 cost: 23.470430041747793\n",
      "epoch: 190 cost: 23.46939840167482\n",
      "epoch: 200 cost: 23.4686102152913\n",
      "epoch: 210 cost: 23.46800781264414\n",
      "epoch: 220 cost: 23.467547295734448\n",
      "epoch: 230 cost: 23.467195193416188\n",
      "epoch: 240 cost: 23.466925957124733\n",
      "epoch: 250 cost: 23.466720072046787\n",
      "epoch: 260 cost: 23.46656262548747\n",
      "epoch: 270 cost: 23.46644221830245\n",
      "epoch: 280 cost: 23.466350135475988\n",
      "epoch: 290 cost: 23.466279713310247\n",
      "epoch: 300 cost: 23.466225856206062\n",
      "epoch: 310 cost: 23.46618466746935\n",
      "epoch: 320 cost: 23.46615316713712\n",
      "epoch: 330 cost: 23.46612907626295\n",
      "epoch: 340 cost: 23.466110651985144\n",
      "epoch: 350 cost: 23.466096561410556\n",
      "epoch: 360 cost: 23.466085785173572\n",
      "epoch: 370 cost: 23.466077543684364\n",
      "epoch: 380 cost: 23.46607124072749\n",
      "epoch: 390 cost: 23.466066420327977\n",
      "epoch: 400 cost: 23.466062733764065\n",
      "epoch: 410 cost: 23.466059914339276\n",
      "epoch: 420 cost: 23.46605775808841\n",
      "epoch: 430 cost: 23.4660561090223\n",
      "epoch: 440 cost: 23.466054847842994\n",
      "epoch: 450 cost: 23.46605388331325\n",
      "epoch: 460 cost: 23.46605314565632\n",
      "epoch: 470 cost: 23.46605258150815\n",
      "epoch: 480 cost: 23.46605215005664\n",
      "epoch: 490 cost: 23.46605182008941\n",
      "epoch: 500 cost: 23.466051567735757\n",
      "epoch: 510 cost: 23.466051374739735\n",
      "epoch: 520 cost: 23.46605122713947\n",
      "epoch: 530 cost: 23.466051114257134\n",
      "epoch: 540 cost: 23.466051027926532\n",
      "epoch: 550 cost: 23.466050961902287\n",
      "epoch: 560 cost: 23.466050911407997\n",
      "epoch: 570 cost: 23.466050872790774\n",
      "epoch: 580 cost: 23.466050843256916\n",
      "epoch: 590 cost: 23.46605082066991\n",
      "epoch: 600 cost: 23.466050803395714\n",
      "epoch: 610 cost: 23.4660507901847\n",
      "epoch: 620 cost: 23.466050780081137\n",
      "epoch: 630 cost: 23.466050772354084\n",
      "epoch: 640 cost: 23.466050766444564\n",
      "epoch: 650 cost: 23.46605076192502\n",
      "epoch: 660 cost: 23.466050758468583\n",
      "epoch: 670 cost: 23.46605075582515\n",
      "epoch: 680 cost: 23.46605075380352\n",
      "epoch: 690 cost: 23.466050752257363\n",
      "epoch: 700 cost: 23.46605075107489\n",
      "epoch: 710 cost: 23.4660507501706\n",
      "epoch: 720 cost: 23.46605074947897\n",
      "epoch: 730 cost: 23.46605074895003\n",
      "epoch: 740 cost: 23.466050748545502\n",
      "epoch: 750 cost: 23.46605074823613\n",
      "epoch: 760 cost: 23.466050747999525\n",
      "epoch: 770 cost: 23.4660507478186\n",
      "epoch: 780 cost: 23.4660507476802\n",
      "epoch: 790 cost: 23.466050747574364\n",
      "epoch: 800 cost: 23.46605074749341\n",
      "epoch: 810 cost: 23.466050747431517\n",
      "epoch: 820 cost: 23.46605074738418\n",
      "epoch: 830 cost: 23.466050747347975\n",
      "epoch: 840 cost: 23.466050747320295\n",
      "epoch: 850 cost: 23.46605074729911\n",
      "epoch: 860 cost: 23.466050747282928\n",
      "epoch: 870 cost: 23.46605074727051\n",
      "epoch: 880 cost: 23.466050747261043\n",
      "epoch: 890 cost: 23.466050747253806\n",
      "epoch: 900 cost: 23.46605074724828\n",
      "epoch: 910 cost: 23.46605074724404\n",
      "epoch: 920 cost: 23.46605074724078\n",
      "epoch: 930 cost: 23.46605074723832\n",
      "epoch: 940 cost: 23.466050747236398\n",
      "epoch: 950 cost: 23.46605074723497\n",
      "epoch: 960 cost: 23.466050747233858\n",
      "epoch: 970 cost: 23.466050747233012\n",
      "epoch: 980 cost: 23.466050747232366\n",
      "epoch: 990 cost: 23.466050747231865\n",
      "epoch: 1000 cost: 23.466050747231503\n",
      "Do you want to continue?:n\n",
      "[-9.38080612e-01  7.41034005e-01  1.16903189e-02  7.80873859e-01\n",
      " -2.17455732e+00  2.35429667e+00  1.23337957e-01 -2.95232364e+00\n",
      "  2.53296552e+00 -1.70290060e+00 -2.25151952e+00  5.88354233e-01\n",
      " -4.26368148e+00  2.26772333e+01]\n"
     ]
    }
   ],
   "source": [
    "m, cost_array = fit(X_,Y,epochs=1000,lr=0.1,verbose=True)\n",
    "print(m)"
   ]
  },
  {
   "cell_type": "code",
   "execution_count": 26,
   "metadata": {},
   "outputs": [
    {
     "data": {
      "image/png": "[encoded data removed]",
      "text/plain": [
       "<Figure size 432x288 with 1 Axes>"
      ]
     },
     "metadata": {
      "needs_background": "light"
     },
     "output_type": "display_data"
    }
   ],
   "source": [
    "plt.plot(cost_array)\n",
    "plt.grid()\n",
    "plt.show()"
   ]
  },
  {
   "cell_type": "code",
   "execution_count": 27,
   "metadata": {},
   "outputs": [
    {
     "data": {
      "text/plain": [
       "(379,)"
      ]
     },
     "execution_count": 27,
     "metadata": {},
     "output_type": "execute_result"
    }
   ],
   "source": [
    "y_pred = predict(X_,m)\n",
    "y_pred.shape"
   ]
  },
  {
   "cell_type": "code",
   "execution_count": 28,
   "metadata": {},
   "outputs": [
    {
     "data": {
      "text/plain": [
       "0.7331366627280855"
      ]
     },
     "execution_count": 28,
     "metadata": {},
     "output_type": "execute_result"
    }
   ],
   "source": [
    "score(Y,y_pred)"
   ]
  },
  {
   "cell_type": "code",
   "execution_count": 29,
   "metadata": {},
   "outputs": [],
   "source": [
    "X_test = np.loadtxt(\"Boston-Testing-Data.csv\",delimiter=\",\")"
   ]
  },
  {
   "cell_type": "code",
   "execution_count": 30,
   "metadata": {},
   "outputs": [],
   "source": [
    "X_test_ = np.append(X_test,np.ones(X_test.shape[0]).reshape(-1,1),axis=1)"
   ]
  },
  {
   "cell_type": "code",
   "execution_count": 31,
   "metadata": {},
   "outputs": [
    {
     "data": {
      "text/plain": [
       "(127, 14)"
      ]
     },
     "execution_count": 31,
     "metadata": {},
     "output_type": "execute_result"
    }
   ],
   "source": [
    "X_test_.shape"
   ]
  },
  {
   "cell_type": "code",
   "execution_count": 36,
   "metadata": {},
   "outputs": [],
   "source": [
    "y_pred_test = predict(X_test_,m)"
   ]
  },
  {
   "cell_type": "code",
   "execution_count": 37,
   "metadata": {},
   "outputs": [
    {
     "data": {
      "text/plain": [
       "array([12.43328317, 29.03367208, 22.3716447 , 24.47778566, 20.60167144,\n",
       "        2.72533226, 30.40000253, 24.86119999, 18.65725021, 23.53985837,\n",
       "       24.11396868, 17.71143895, 17.44000496, 21.65356361, 42.31137753,\n",
       "       23.84974576, 24.47573229, 27.53872771, 20.23606771, 31.15155566,\n",
       "       23.78238082, 25.00979407, 33.95768518, 36.43515607, 32.04098398,\n",
       "       16.7132256 , 23.47176648, 32.93828177, 25.18069968, 33.71008693,\n",
       "       16.88580248, 26.02760942, 23.27040054, 25.47758948, 15.00946626,\n",
       "       29.58574991, 26.24821246, 20.37245804, 24.43681391,  9.44706905,\n",
       "        8.38096596, 29.01392305, 29.59085454, 19.75757024, 20.3719675 ,\n",
       "        3.14442593, 39.52420106, 25.71741224, 30.37729444, 16.79453239,\n",
       "       17.89088614, 41.02574348, 17.57238762, 20.89662705, 15.59837734,\n",
       "       21.41394829, 18.45436447, 23.155764  , 13.67245063, 17.23573844,\n",
       "       15.02710402, 29.15131354, 25.17166511, 25.49749371, 17.21186634,\n",
       "       17.42936975, 34.70372744, 17.01340773, 27.10724189, 22.54695677,\n",
       "       29.25337055, 27.11018113, 17.73402203,  5.74704726, 36.87653737,\n",
       "       25.09193927, 30.15053553, 27.2408086 , 16.25218418, 32.63542248,\n",
       "       19.27351353, 22.65416914, 22.22935423,  8.55084878, 17.33054334,\n",
       "       29.17591735, 27.20836155,  5.8857689 , 21.91465197, 20.1154981 ,\n",
       "       22.1767395 , 20.52700633, 20.85181397, 13.18132035, 19.69404966,\n",
       "       25.9866678 , 40.2706768 , 19.77706017, 33.7025651 , 27.22074029,\n",
       "       28.74517096, 22.1154385 , 25.91351905, 31.30678487, 17.15297452,\n",
       "       26.37137862, 21.44657083, 36.73924641, 22.08272792, 16.70906163,\n",
       "       27.59458227, -0.05974769, 13.86188158, 16.28772086, 35.77134415,\n",
       "       20.85214631, 20.77286888, 25.35136008, 21.78782232, 18.84720299,\n",
       "       13.51489118, 35.61958188, 23.09139679, 25.01812775, 17.46493377,\n",
       "       20.73710019, 14.72993742])"
      ]
     },
     "execution_count": 37,
     "metadata": {},
     "output_type": "execute_result"
    }
   ],
   "source": [
    "y_pred_test"
   ]
  },
  {
   "cell_type": "code",
   "execution_count": 38,
   "metadata": {},
   "outputs": [],
   "source": [
    "np.savetxt('pred.csv',y_pred_test)"
   ]
  },
  {
   "cell_type": "code",
   "execution_count": null,
   "metadata": {},
   "outputs": [],
   "source": []
  }
 ],
 "metadata": {
  "kernelspec": {
   "display_name": "Python 3",
   "language": "python",
   "name": "python3"
  },
  "language_info": {
   "codemirror_mode": {
    "name": "ipython",
    "version": 3
   },
   "file_extension": ".py",
   "mimetype": "text/x-python",
   "name": "python",
   "nbconvert_exporter": "python",
   "pygments_lexer": "ipython3",
   "version": "3.6.8"
  }
 },
 "nbformat": 4,
 "nbformat_minor": 2
}
