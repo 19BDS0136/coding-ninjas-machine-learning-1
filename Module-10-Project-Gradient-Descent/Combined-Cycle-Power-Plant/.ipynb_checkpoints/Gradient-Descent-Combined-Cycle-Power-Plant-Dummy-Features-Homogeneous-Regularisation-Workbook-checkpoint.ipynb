{
 "cells": [
  {
   "cell_type": "code",
   "execution_count": 89,
   "metadata": {},
   "outputs": [],
   "source": [
    "import numpy as np\n",
    "import matplotlib.pyplot as plt\n",
    "from IPython.display import clear_output\n",
    "import pandas as pd\n",
    "from sklearn import preprocessing"
   ]
  },
  {
   "cell_type": "code",
   "execution_count": 90,
   "metadata": {},
   "outputs": [],
   "source": [
    "data = np.loadtxt(\"Combined-Cycle-Power-Plant-Training-Data.csv\",delimiter=\",\")"
   ]
  },
  {
   "cell_type": "code",
   "execution_count": 91,
   "metadata": {},
   "outputs": [],
   "source": [
    "X = data[:,0:4]\n",
    "Y = data[:,4]"
   ]
  },
  {
   "cell_type": "code",
   "execution_count": 92,
   "metadata": {},
   "outputs": [
    {
     "data": {
      "text/plain": [
       "StandardScaler(copy=True, with_mean=True, with_std=True)"
      ]
     },
     "execution_count": 92,
     "metadata": {},
     "output_type": "execute_result"
    }
   ],
   "source": [
    "scaler = preprocessing.StandardScaler()\n",
    "scaler.fit(X)"
   ]
  },
  {
   "cell_type": "code",
   "execution_count": 93,
   "metadata": {},
   "outputs": [],
   "source": [
    "X_scaled = scaler.transform(X)"
   ]
  },
  {
   "cell_type": "code",
   "execution_count": 94,
   "metadata": {},
   "outputs": [
    {
     "data": {
      "text/plain": [
       "((7176, 4), (7176,))"
      ]
     },
     "execution_count": 94,
     "metadata": {},
     "output_type": "execute_result"
    }
   ],
   "source": [
    "X_scaled.shape,Y.shape"
   ]
  },
  {
   "cell_type": "code",
   "execution_count": 95,
   "metadata": {},
   "outputs": [
    {
     "data": {
      "text/html": [
       "<div>\n",
       "<style scoped>\n",
       "    .dataframe tbody tr th:only-of-type {\n",
       "        vertical-align: middle;\n",
       "    }\n",
       "\n",
       "    .dataframe tbody tr th {\n",
       "        vertical-align: top;\n",
       "    }\n",
       "\n",
       "    .dataframe thead th {\n",
       "        text-align: right;\n",
       "    }\n",
       "</style>\n",
       "<table border=\"1\" class=\"dataframe\">\n",
       "  <thead>\n",
       "    <tr style=\"text-align: right;\">\n",
       "      <th></th>\n",
       "      <th>0</th>\n",
       "      <th>1</th>\n",
       "      <th>2</th>\n",
       "      <th>3</th>\n",
       "    </tr>\n",
       "  </thead>\n",
       "  <tbody>\n",
       "    <tr>\n",
       "      <th>count</th>\n",
       "      <td>7.176000e+03</td>\n",
       "      <td>7.176000e+03</td>\n",
       "      <td>7.176000e+03</td>\n",
       "      <td>7.176000e+03</td>\n",
       "    </tr>\n",
       "    <tr>\n",
       "      <th>mean</th>\n",
       "      <td>-1.942302e-15</td>\n",
       "      <td>-2.070379e-14</td>\n",
       "      <td>-1.895690e-13</td>\n",
       "      <td>-1.273294e-14</td>\n",
       "    </tr>\n",
       "    <tr>\n",
       "      <th>std</th>\n",
       "      <td>1.000070e+00</td>\n",
       "      <td>1.000070e+00</td>\n",
       "      <td>1.000070e+00</td>\n",
       "      <td>1.000070e+00</td>\n",
       "    </tr>\n",
       "    <tr>\n",
       "      <th>min</th>\n",
       "      <td>-2.383992e+00</td>\n",
       "      <td>-2.268772e+00</td>\n",
       "      <td>-3.415745e+00</td>\n",
       "      <td>-3.262827e+00</td>\n",
       "    </tr>\n",
       "    <tr>\n",
       "      <th>25%</th>\n",
       "      <td>-8.240709e-01</td>\n",
       "      <td>-9.841242e-01</td>\n",
       "      <td>-7.130639e-01</td>\n",
       "      <td>-6.888175e-01</td>\n",
       "    </tr>\n",
       "    <tr>\n",
       "      <th>50%</th>\n",
       "      <td>9.168063e-02</td>\n",
       "      <td>-1.755335e-01</td>\n",
       "      <td>-5.918944e-02</td>\n",
       "      <td>1.107203e-01</td>\n",
       "    </tr>\n",
       "    <tr>\n",
       "      <th>75%</th>\n",
       "      <td>8.147832e-01</td>\n",
       "      <td>9.608855e-01</td>\n",
       "      <td>6.772576e-01</td>\n",
       "      <td>7.965757e-01</td>\n",
       "    </tr>\n",
       "    <tr>\n",
       "      <th>max</th>\n",
       "      <td>2.159312e+00</td>\n",
       "      <td>2.138871e+00</td>\n",
       "      <td>3.359400e+00</td>\n",
       "      <td>1.838351e+00</td>\n",
       "    </tr>\n",
       "  </tbody>\n",
       "</table>\n",
       "</div>"
      ],
      "text/plain": [
       "                  0             1             2             3\n",
       "count  7.176000e+03  7.176000e+03  7.176000e+03  7.176000e+03\n",
       "mean  -1.942302e-15 -2.070379e-14 -1.895690e-13 -1.273294e-14\n",
       "std    1.000070e+00  1.000070e+00  1.000070e+00  1.000070e+00\n",
       "min   -2.383992e+00 -2.268772e+00 -3.415745e+00 -3.262827e+00\n",
       "25%   -8.240709e-01 -9.841242e-01 -7.130639e-01 -6.888175e-01\n",
       "50%    9.168063e-02 -1.755335e-01 -5.918944e-02  1.107203e-01\n",
       "75%    8.147832e-01  9.608855e-01  6.772576e-01  7.965757e-01\n",
       "max    2.159312e+00  2.138871e+00  3.359400e+00  1.838351e+00"
      ]
     },
     "execution_count": 95,
     "metadata": {},
     "output_type": "execute_result"
    }
   ],
   "source": [
    "df = pd.DataFrame(X_scaled)\n",
    "df.describe()"
   ]
  },
  {
   "cell_type": "code",
   "execution_count": 96,
   "metadata": {},
   "outputs": [
    {
     "data": {
      "text/html": [
       "<div>\n",
       "<style scoped>\n",
       "    .dataframe tbody tr th:only-of-type {\n",
       "        vertical-align: middle;\n",
       "    }\n",
       "\n",
       "    .dataframe tbody tr th {\n",
       "        vertical-align: top;\n",
       "    }\n",
       "\n",
       "    .dataframe thead th {\n",
       "        text-align: right;\n",
       "    }\n",
       "</style>\n",
       "<table border=\"1\" class=\"dataframe\">\n",
       "  <thead>\n",
       "    <tr style=\"text-align: right;\">\n",
       "      <th></th>\n",
       "      <th>0</th>\n",
       "      <th>1</th>\n",
       "      <th>2</th>\n",
       "      <th>3</th>\n",
       "      <th>0_0</th>\n",
       "      <th>0_0_0</th>\n",
       "      <th>1_1</th>\n",
       "      <th>1_1_1</th>\n",
       "      <th>2_2</th>\n",
       "      <th>2_2_2</th>\n",
       "      <th>3_3</th>\n",
       "      <th>3_3_3</th>\n",
       "    </tr>\n",
       "  </thead>\n",
       "  <tbody>\n",
       "    <tr>\n",
       "      <th>count</th>\n",
       "      <td>7.176000e+03</td>\n",
       "      <td>7.176000e+03</td>\n",
       "      <td>7.176000e+03</td>\n",
       "      <td>7.176000e+03</td>\n",
       "      <td>7.176000e+03</td>\n",
       "      <td>7176.000000</td>\n",
       "      <td>7.176000e+03</td>\n",
       "      <td>7176.000000</td>\n",
       "      <td>7.176000e+03</td>\n",
       "      <td>7176.000000</td>\n",
       "      <td>7.176000e+03</td>\n",
       "      <td>7176.000000</td>\n",
       "    </tr>\n",
       "    <tr>\n",
       "      <th>mean</th>\n",
       "      <td>-1.942302e-15</td>\n",
       "      <td>-2.070379e-14</td>\n",
       "      <td>-1.895690e-13</td>\n",
       "      <td>-1.273294e-14</td>\n",
       "      <td>1.000000e+00</td>\n",
       "      <td>-0.127440</td>\n",
       "      <td>1.000000e+00</td>\n",
       "      <td>0.203236</td>\n",
       "      <td>1.000000e+00</td>\n",
       "      <td>0.282518</td>\n",
       "      <td>1.000000e+00</td>\n",
       "      <td>-0.416106</td>\n",
       "    </tr>\n",
       "    <tr>\n",
       "      <th>std</th>\n",
       "      <td>1.000070e+00</td>\n",
       "      <td>1.000070e+00</td>\n",
       "      <td>1.000070e+00</td>\n",
       "      <td>1.000070e+00</td>\n",
       "      <td>9.735049e-01</td>\n",
       "      <td>2.216855</td>\n",
       "      <td>7.471808e-01</td>\n",
       "      <td>1.755241</td>\n",
       "      <td>1.431425e+00</td>\n",
       "      <td>3.957577</td>\n",
       "      <td>1.231853e+00</td>\n",
       "      <td>3.105197</td>\n",
       "    </tr>\n",
       "    <tr>\n",
       "      <th>min</th>\n",
       "      <td>-2.383992e+00</td>\n",
       "      <td>-2.268772e+00</td>\n",
       "      <td>-3.415745e+00</td>\n",
       "      <td>-3.262827e+00</td>\n",
       "      <td>1.489307e-09</td>\n",
       "      <td>-13.549229</td>\n",
       "      <td>8.632078e-07</td>\n",
       "      <td>-11.678106</td>\n",
       "      <td>2.584714e-07</td>\n",
       "      <td>-39.852566</td>\n",
       "      <td>1.582746e-07</td>\n",
       "      <td>-34.736176</td>\n",
       "    </tr>\n",
       "    <tr>\n",
       "      <th>25%</th>\n",
       "      <td>-8.240709e-01</td>\n",
       "      <td>-9.841242e-01</td>\n",
       "      <td>-7.130639e-01</td>\n",
       "      <td>-6.888175e-01</td>\n",
       "      <td>2.142339e-01</td>\n",
       "      <td>-0.559621</td>\n",
       "      <td>4.358869e-01</td>\n",
       "      <td>-0.953125</td>\n",
       "      <td>1.072206e-01</td>\n",
       "      <td>-0.362565</td>\n",
       "      <td>1.325467e-01</td>\n",
       "      <td>-0.326825</td>\n",
       "    </tr>\n",
       "    <tr>\n",
       "      <th>50%</th>\n",
       "      <td>9.168063e-02</td>\n",
       "      <td>-1.755335e-01</td>\n",
       "      <td>-5.918944e-02</td>\n",
       "      <td>1.107203e-01</td>\n",
       "      <td>6.726207e-01</td>\n",
       "      <td>0.000771</td>\n",
       "      <td>9.607976e-01</td>\n",
       "      <td>-0.005409</td>\n",
       "      <td>4.824987e-01</td>\n",
       "      <td>-0.000207</td>\n",
       "      <td>5.668106e-01</td>\n",
       "      <td>0.001357</td>\n",
       "    </tr>\n",
       "    <tr>\n",
       "      <th>75%</th>\n",
       "      <td>8.147832e-01</td>\n",
       "      <td>9.608855e-01</td>\n",
       "      <td>6.772576e-01</td>\n",
       "      <td>7.965757e-01</td>\n",
       "      <td>1.564605e+00</td>\n",
       "      <td>0.540911</td>\n",
       "      <td>1.373247e+00</td>\n",
       "      <td>0.887186</td>\n",
       "      <td>1.297140e+00</td>\n",
       "      <td>0.310644</td>\n",
       "      <td>1.401805e+00</td>\n",
       "      <td>0.505454</td>\n",
       "    </tr>\n",
       "    <tr>\n",
       "      <th>max</th>\n",
       "      <td>2.159312e+00</td>\n",
       "      <td>2.138871e+00</td>\n",
       "      <td>3.359400e+00</td>\n",
       "      <td>1.838351e+00</td>\n",
       "      <td>5.683420e+00</td>\n",
       "      <td>10.068075</td>\n",
       "      <td>5.147325e+00</td>\n",
       "      <td>9.784844</td>\n",
       "      <td>1.166731e+01</td>\n",
       "      <td>37.912747</td>\n",
       "      <td>1.064604e+01</td>\n",
       "      <td>6.212771</td>\n",
       "    </tr>\n",
       "  </tbody>\n",
       "</table>\n",
       "</div>"
      ],
      "text/plain": [
       "                  0             1             2             3           0_0  \\\n",
       "count  7.176000e+03  7.176000e+03  7.176000e+03  7.176000e+03  7.176000e+03   \n",
       "mean  -1.942302e-15 -2.070379e-14 -1.895690e-13 -1.273294e-14  1.000000e+00   \n",
       "std    1.000070e+00  1.000070e+00  1.000070e+00  1.000070e+00  9.735049e-01   \n",
       "min   -2.383992e+00 -2.268772e+00 -3.415745e+00 -3.262827e+00  1.489307e-09   \n",
       "25%   -8.240709e-01 -9.841242e-01 -7.130639e-01 -6.888175e-01  2.142339e-01   \n",
       "50%    9.168063e-02 -1.755335e-01 -5.918944e-02  1.107203e-01  6.726207e-01   \n",
       "75%    8.147832e-01  9.608855e-01  6.772576e-01  7.965757e-01  1.564605e+00   \n",
       "max    2.159312e+00  2.138871e+00  3.359400e+00  1.838351e+00  5.683420e+00   \n",
       "\n",
       "             0_0_0           1_1        1_1_1           2_2        2_2_2  \\\n",
       "count  7176.000000  7.176000e+03  7176.000000  7.176000e+03  7176.000000   \n",
       "mean     -0.127440  1.000000e+00     0.203236  1.000000e+00     0.282518   \n",
       "std       2.216855  7.471808e-01     1.755241  1.431425e+00     3.957577   \n",
       "min     -13.549229  8.632078e-07   -11.678106  2.584714e-07   -39.852566   \n",
       "25%      -0.559621  4.358869e-01    -0.953125  1.072206e-01    -0.362565   \n",
       "50%       0.000771  9.607976e-01    -0.005409  4.824987e-01    -0.000207   \n",
       "75%       0.540911  1.373247e+00     0.887186  1.297140e+00     0.310644   \n",
       "max      10.068075  5.147325e+00     9.784844  1.166731e+01    37.912747   \n",
       "\n",
       "                3_3        3_3_3  \n",
       "count  7.176000e+03  7176.000000  \n",
       "mean   1.000000e+00    -0.416106  \n",
       "std    1.231853e+00     3.105197  \n",
       "min    1.582746e-07   -34.736176  \n",
       "25%    1.325467e-01    -0.326825  \n",
       "50%    5.668106e-01     0.001357  \n",
       "75%    1.401805e+00     0.505454  \n",
       "max    1.064604e+01     6.212771  "
      ]
     },
     "execution_count": 96,
     "metadata": {},
     "output_type": "execute_result"
    }
   ],
   "source": [
    "features = df.columns\n",
    "\n",
    "for feature in features:\n",
    "    comp_feature = str(feature) + \"_\" + str(feature)\n",
    "    comp_feature_1 = str(feature) + \"_\" + str(feature) + \"_\" + str(feature)\n",
    "    df[comp_feature] = df[feature]*df[feature]\n",
    "    df[comp_feature_1] = df[feature]*df[feature]*df[feature]\n",
    "df.describe()"
   ]
  },
  {
   "cell_type": "code",
   "execution_count": 97,
   "metadata": {},
   "outputs": [],
   "source": [
    "X_scaled = df.values"
   ]
  },
  {
   "cell_type": "code",
   "execution_count": 98,
   "metadata": {},
   "outputs": [],
   "source": [
    "X_ = np.append(X_scaled,np.ones(X_scaled.shape[0]).reshape(-1,1),axis=1)"
   ]
  },
  {
   "cell_type": "code",
   "execution_count": 99,
   "metadata": {},
   "outputs": [],
   "source": [
    "def cost(X_train,m,Y_train,lam):\n",
    "    cost_ = 0\n",
    "    N = X_train.shape[0]\n",
    "    for i in range(N):\n",
    "        cost_ += (1/N)*(((Y_train[i]-((X_train[i]*m).sum()))**2) + lam * ((m**2).sum()))\n",
    "    return cost_"
   ]
  },
  {
   "cell_type": "code",
   "execution_count": 100,
   "metadata": {},
   "outputs": [],
   "source": [
    "def step_gradient(X_train,Y_train,m,lr,lam):\n",
    "    \n",
    "    slope_m = np.zeros(X_train.shape[1])\n",
    "    N = X_train.shape[0]\n",
    "    \n",
    "    for i in range(N):\n",
    "        slope_m += ((2/N)*((Y_train[i]-(m*X_train[i]).sum())*(-X_train[i]) + 2*lam*m))\n",
    "        \n",
    "    m = m - (lr * slope_m)\n",
    "    \n",
    "    return m"
   ]
  },
  {
   "cell_type": "code",
   "execution_count": 101,
   "metadata": {},
   "outputs": [],
   "source": [
    "def fit(X_train,Y_train,lr=0.001,lam=0.2,epochs=100,verbose=False):\n",
    "    m = np.zeros(X_train.shape[1])\n",
    "    last_m = m\n",
    "    cost_array = []\n",
    "    unit = epochs//100\n",
    "    for i in range(epochs+1):\n",
    "        last_m = m\n",
    "        m = step_gradient(X_train,Y_train,m,lr,lam)\n",
    "        cost_ = cost(X_train,m,Y_train,lam)\n",
    "        #verbose is used to only show the learning process if required, else it is False by default\n",
    "        if verbose and i%unit==0:\n",
    "            print(\"epoch:\",i,\"cost:\",cost_)\n",
    "            cost_array.append(cost_)\n",
    "    \n",
    "    #To continue the learning loop incase the current epoch and learning parameters doesn't lead to saturation\n",
    "    cont = input(\"Do you want to continue?:\")\n",
    "        \n",
    "    while cont==\"y\":\n",
    "        \n",
    "        clear_output(wait=True)\n",
    "        epochs = int(input(\"Please enter the number of epochs to continue for:\"))\n",
    "        unit = int(input(\"Please enter the unit point for epochs:\"))\n",
    "        lr_factor = float(input(\"Please enter the decay factor for the learning rate:\"))\n",
    "        lr*=lr_factor\n",
    "        print(\"Learning rate:\",lr)\n",
    "        for i in range(epochs+1):\n",
    "            last_m = m\n",
    "            m = step_gradient(X_train,Y_train,m,lr,lam)\n",
    "            cost_ = cost(X_train,m,Y_train,lam)\n",
    "            if verbose and i%unit==0:\n",
    "                print(\"epoch:\",i,\"cost:\",cost_)\n",
    "                cost_array.append(cost_)\n",
    "        cont = input(\"Do you want to continue?:\")\n",
    "        \n",
    "    return m,cost_array"
   ]
  },
  {
   "cell_type": "code",
   "execution_count": 102,
   "metadata": {},
   "outputs": [],
   "source": [
    "def predict(X_test,m):\n",
    "    y_pred = []\n",
    "    for i in range(X_test.shape[0]):\n",
    "        y_pred.append((X_test[i]*m).sum())\n",
    "    return np.array(y_pred)"
   ]
  },
  {
   "cell_type": "code",
   "execution_count": 103,
   "metadata": {},
   "outputs": [],
   "source": [
    "def score(Y_true,Y_pred):\n",
    "    u = ((Y_true-Y_pred)**2).sum()\n",
    "    v = ((Y_true-(Y_true.mean()))**2).sum()\n",
    "    return 1-(u/v)"
   ]
  },
  {
   "cell_type": "code",
   "execution_count": 133,
   "metadata": {},
   "outputs": [
    {
     "name": "stdout",
     "output_type": "stream",
     "text": [
      "Please enter the number of epochs to continue for:100\n",
      "Please enter the unit point for epochs:10\n",
      "Please enter the decay factor for the learning rate:2\n",
      "Learning rate: 0.03366330000000001\n",
      "epoch: 0 cost: 18.1106501913135\n",
      "epoch: 10 cost: 18.11064988624982\n",
      "epoch: 20 cost: 18.110649599096615\n",
      "epoch: 30 cost: 18.110649328802552\n",
      "epoch: 40 cost: 18.110649074377328\n",
      "epoch: 50 cost: 18.11064883488977\n",
      "epoch: 60 cost: 18.110648609462626\n",
      "epoch: 70 cost: 18.110648397270445\n",
      "epoch: 80 cost: 18.110648197536307\n",
      "epoch: 90 cost: 18.110648009528642\n",
      "epoch: 100 cost: 18.110647832559096\n",
      "Do you want to continue?:n\n",
      "[-1.45635943e+01 -4.23142450e+00  9.36176561e-01 -1.78528285e+00\n",
      "  1.81546096e+00  4.14786921e-01 -1.79443776e-01  5.10755411e-01\n",
      " -3.62334380e-01 -1.04358326e-01 -1.69943735e-01  1.61089522e-02\n",
      "  4.53312746e+02]\n"
     ]
    }
   ],
   "source": [
    "m, cost_array = fit(X_,Y,epochs=1000,lr=0.01,lam=0,verbose=True)\n",
    "print(m)"
   ]
  },
  {
   "cell_type": "code",
   "execution_count": 134,
   "metadata": {},
   "outputs": [
    {
     "data": {
      "image/png": "[encoded data removed]",
      "text/plain": [
       "<Figure size 432x288 with 1 Axes>"
      ]
     },
     "metadata": {
      "needs_background": "light"
     },
     "output_type": "display_data"
    }
   ],
   "source": [
    "plt.plot(cost_array)\n",
    "plt.grid()\n",
    "plt.show()"
   ]
  },
  {
   "cell_type": "code",
   "execution_count": 135,
   "metadata": {},
   "outputs": [
    {
     "data": {
      "text/plain": [
       "(7176,)"
      ]
     },
     "execution_count": 135,
     "metadata": {},
     "output_type": "execute_result"
    }
   ],
   "source": [
    "y_pred = predict(X_,m)\n",
    "y_pred.shape"
   ]
  },
  {
   "cell_type": "code",
   "execution_count": 136,
   "metadata": {},
   "outputs": [
    {
     "data": {
      "text/plain": [
       "0.9383052753111001"
      ]
     },
     "execution_count": 136,
     "metadata": {},
     "output_type": "execute_result"
    }
   ],
   "source": [
    "score(Y,y_pred)"
   ]
  },
  {
   "cell_type": "code",
   "execution_count": 137,
   "metadata": {},
   "outputs": [],
   "source": [
    "X_test = np.loadtxt(\"Combined-Cycle-Power-Plant-Testing-Data.csv\",delimiter=\",\")"
   ]
  },
  {
   "cell_type": "code",
   "execution_count": 138,
   "metadata": {},
   "outputs": [],
   "source": [
    "X_test_scaled = scaler.transform(X_test)"
   ]
  },
  {
   "cell_type": "code",
   "execution_count": 139,
   "metadata": {},
   "outputs": [],
   "source": [
    "df_test = pd.DataFrame(X_test_scaled)"
   ]
  },
  {
   "cell_type": "code",
   "execution_count": 140,
   "metadata": {},
   "outputs": [
    {
     "data": {
      "text/html": [
       "<div>\n",
       "<style scoped>\n",
       "    .dataframe tbody tr th:only-of-type {\n",
       "        vertical-align: middle;\n",
       "    }\n",
       "\n",
       "    .dataframe tbody tr th {\n",
       "        vertical-align: top;\n",
       "    }\n",
       "\n",
       "    .dataframe thead th {\n",
       "        text-align: right;\n",
       "    }\n",
       "</style>\n",
       "<table border=\"1\" class=\"dataframe\">\n",
       "  <thead>\n",
       "    <tr style=\"text-align: right;\">\n",
       "      <th></th>\n",
       "      <th>0</th>\n",
       "      <th>1</th>\n",
       "      <th>2</th>\n",
       "      <th>3</th>\n",
       "      <th>0_0</th>\n",
       "      <th>0_0_0</th>\n",
       "      <th>1_1</th>\n",
       "      <th>1_1_1</th>\n",
       "      <th>2_2</th>\n",
       "      <th>2_2_2</th>\n",
       "      <th>3_3</th>\n",
       "      <th>3_3_3</th>\n",
       "    </tr>\n",
       "  </thead>\n",
       "  <tbody>\n",
       "    <tr>\n",
       "      <th>count</th>\n",
       "      <td>2392.000000</td>\n",
       "      <td>2392.000000</td>\n",
       "      <td>2392.000000</td>\n",
       "      <td>2392.000000</td>\n",
       "      <td>2392.000000</td>\n",
       "      <td>2392.000000</td>\n",
       "      <td>2.392000e+03</td>\n",
       "      <td>2392.000000</td>\n",
       "      <td>2.392000e+03</td>\n",
       "      <td>2392.000000</td>\n",
       "      <td>2.392000e+03</td>\n",
       "      <td>2392.000000</td>\n",
       "    </tr>\n",
       "    <tr>\n",
       "      <th>mean</th>\n",
       "      <td>0.011516</td>\n",
       "      <td>0.005537</td>\n",
       "      <td>-0.002652</td>\n",
       "      <td>0.009070</td>\n",
       "      <td>0.975827</td>\n",
       "      <td>-0.123884</td>\n",
       "      <td>9.728550e-01</td>\n",
       "      <td>0.192680</td>\n",
       "      <td>9.652385e-01</td>\n",
       "      <td>0.192362</td>\n",
       "      <td>9.865921e-01</td>\n",
       "      <td>-0.442958</td>\n",
       "    </tr>\n",
       "    <tr>\n",
       "      <th>std</th>\n",
       "      <td>0.987979</td>\n",
       "      <td>0.986525</td>\n",
       "      <td>0.982667</td>\n",
       "      <td>0.993440</td>\n",
       "      <td>0.976802</td>\n",
       "      <td>2.210423</td>\n",
       "      <td>7.228607e-01</td>\n",
       "      <td>1.674112</td>\n",
       "      <td>1.442370e+00</td>\n",
       "      <td>4.031154</td>\n",
       "      <td>1.269609e+00</td>\n",
       "      <td>3.213951</td>\n",
       "    </tr>\n",
       "    <tr>\n",
       "      <th>min</th>\n",
       "      <td>-2.173951</td>\n",
       "      <td>-2.268772</td>\n",
       "      <td>-3.273234</td>\n",
       "      <td>-3.186924</td>\n",
       "      <td>0.000002</td>\n",
       "      <td>-10.274236</td>\n",
       "      <td>8.632078e-07</td>\n",
       "      <td>-11.678106</td>\n",
       "      <td>2.584714e-07</td>\n",
       "      <td>-35.069622</td>\n",
       "      <td>8.177685e-08</td>\n",
       "      <td>-32.367957</td>\n",
       "    </tr>\n",
       "    <tr>\n",
       "      <th>25%</th>\n",
       "      <td>-0.798652</td>\n",
       "      <td>-0.984908</td>\n",
       "      <td>-0.664442</td>\n",
       "      <td>-0.660611</td>\n",
       "      <td>0.196950</td>\n",
       "      <td>-0.509416</td>\n",
       "      <td>4.031565e-01</td>\n",
       "      <td>-0.955411</td>\n",
       "      <td>9.693223e-02</td>\n",
       "      <td>-0.293341</td>\n",
       "      <td>1.179707e-01</td>\n",
       "      <td>-0.288295</td>\n",
       "    </tr>\n",
       "    <tr>\n",
       "      <th>50%</th>\n",
       "      <td>0.109741</td>\n",
       "      <td>-0.120634</td>\n",
       "      <td>-0.039909</td>\n",
       "      <td>0.124054</td>\n",
       "      <td>0.646421</td>\n",
       "      <td>0.001322</td>\n",
       "      <td>9.552234e-01</td>\n",
       "      <td>-0.001756</td>\n",
       "      <td>4.341551e-01</td>\n",
       "      <td>-0.000064</td>\n",
       "      <td>5.224931e-01</td>\n",
       "      <td>0.001909</td>\n",
       "    </tr>\n",
       "    <tr>\n",
       "      <th>75%</th>\n",
       "      <td>0.808428</td>\n",
       "      <td>0.956964</td>\n",
       "      <td>0.655462</td>\n",
       "      <td>0.767343</td>\n",
       "      <td>1.478985</td>\n",
       "      <td>0.528355</td>\n",
       "      <td>1.354927e+00</td>\n",
       "      <td>0.876369</td>\n",
       "      <td>1.237688e+00</td>\n",
       "      <td>0.281607</td>\n",
       "      <td>1.368008e+00</td>\n",
       "      <td>0.451825</td>\n",
       "    </tr>\n",
       "    <tr>\n",
       "      <th>max</th>\n",
       "      <td>2.338583</td>\n",
       "      <td>2.036131</td>\n",
       "      <td>3.357724</td>\n",
       "      <td>1.836300</td>\n",
       "      <td>5.468970</td>\n",
       "      <td>12.789641</td>\n",
       "      <td>5.147325e+00</td>\n",
       "      <td>8.441449</td>\n",
       "      <td>1.127431e+01</td>\n",
       "      <td>37.856011</td>\n",
       "      <td>1.015649e+01</td>\n",
       "      <td>6.191996</td>\n",
       "    </tr>\n",
       "  </tbody>\n",
       "</table>\n",
       "</div>"
      ],
      "text/plain": [
       "                 0            1            2            3          0_0  \\\n",
       "count  2392.000000  2392.000000  2392.000000  2392.000000  2392.000000   \n",
       "mean      0.011516     0.005537    -0.002652     0.009070     0.975827   \n",
       "std       0.987979     0.986525     0.982667     0.993440     0.976802   \n",
       "min      -2.173951    -2.268772    -3.273234    -3.186924     0.000002   \n",
       "25%      -0.798652    -0.984908    -0.664442    -0.660611     0.196950   \n",
       "50%       0.109741    -0.120634    -0.039909     0.124054     0.646421   \n",
       "75%       0.808428     0.956964     0.655462     0.767343     1.478985   \n",
       "max       2.338583     2.036131     3.357724     1.836300     5.468970   \n",
       "\n",
       "             0_0_0           1_1        1_1_1           2_2        2_2_2  \\\n",
       "count  2392.000000  2.392000e+03  2392.000000  2.392000e+03  2392.000000   \n",
       "mean     -0.123884  9.728550e-01     0.192680  9.652385e-01     0.192362   \n",
       "std       2.210423  7.228607e-01     1.674112  1.442370e+00     4.031154   \n",
       "min     -10.274236  8.632078e-07   -11.678106  2.584714e-07   -35.069622   \n",
       "25%      -0.509416  4.031565e-01    -0.955411  9.693223e-02    -0.293341   \n",
       "50%       0.001322  9.552234e-01    -0.001756  4.341551e-01    -0.000064   \n",
       "75%       0.528355  1.354927e+00     0.876369  1.237688e+00     0.281607   \n",
       "max      12.789641  5.147325e+00     8.441449  1.127431e+01    37.856011   \n",
       "\n",
       "                3_3        3_3_3  \n",
       "count  2.392000e+03  2392.000000  \n",
       "mean   9.865921e-01    -0.442958  \n",
       "std    1.269609e+00     3.213951  \n",
       "min    8.177685e-08   -32.367957  \n",
       "25%    1.179707e-01    -0.288295  \n",
       "50%    5.224931e-01     0.001909  \n",
       "75%    1.368008e+00     0.451825  \n",
       "max    1.015649e+01     6.191996  "
      ]
     },
     "execution_count": 140,
     "metadata": {},
     "output_type": "execute_result"
    }
   ],
   "source": [
    "features = df_test.columns\n",
    "\n",
    "for feature in features:\n",
    "    comp_feature = str(feature) + \"_\" + str(feature)\n",
    "    comp_feature_1 = str(feature) + \"_\" + str(feature) + \"_\" + str(feature)\n",
    "    df_test[comp_feature] = df_test[feature]*df_test[feature]\n",
    "    df_test[comp_feature_1] = df_test[feature]*df_test[feature]*df_test[feature]\n",
    "df_test.describe()"
   ]
  },
  {
   "cell_type": "code",
   "execution_count": 141,
   "metadata": {},
   "outputs": [],
   "source": [
    "X_test = df_test.values"
   ]
  },
  {
   "cell_type": "code",
   "execution_count": 142,
   "metadata": {},
   "outputs": [],
   "source": [
    "X_test_ = np.append(X_test,np.ones(X_test.shape[0]).reshape(-1,1),axis=1)"
   ]
  },
  {
   "cell_type": "code",
   "execution_count": 143,
   "metadata": {},
   "outputs": [
    {
     "data": {
      "text/plain": [
       "(2392, 13)"
      ]
     },
     "execution_count": 143,
     "metadata": {},
     "output_type": "execute_result"
    }
   ],
   "source": [
    "X_test_.shape"
   ]
  },
  {
   "cell_type": "code",
   "execution_count": 144,
   "metadata": {},
   "outputs": [],
   "source": [
    "y_pred_test = predict(X_test_,m)"
   ]
  },
  {
   "cell_type": "code",
   "execution_count": 145,
   "metadata": {},
   "outputs": [],
   "source": [
    "np.savetxt('pred_homogeneous_dummy_features_feature_scaling_reg_0.csv',y_pred_test)"
   ]
  },
  {
   "cell_type": "code",
   "execution_count": null,
   "metadata": {},
   "outputs": [],
   "source": []
  }
 ],
 "metadata": {
  "kernelspec": {
   "display_name": "Python 3",
   "language": "python",
   "name": "python3"
  },
  "language_info": {
   "codemirror_mode": {
    "name": "ipython",
    "version": 3
   },
   "file_extension": ".py",
   "mimetype": "text/x-python",
   "name": "python",
   "nbconvert_exporter": "python",
   "pygments_lexer": "ipython3",
   "version": "3.6.8"
  }
 },
 "nbformat": 4,
 "nbformat_minor": 2
}
