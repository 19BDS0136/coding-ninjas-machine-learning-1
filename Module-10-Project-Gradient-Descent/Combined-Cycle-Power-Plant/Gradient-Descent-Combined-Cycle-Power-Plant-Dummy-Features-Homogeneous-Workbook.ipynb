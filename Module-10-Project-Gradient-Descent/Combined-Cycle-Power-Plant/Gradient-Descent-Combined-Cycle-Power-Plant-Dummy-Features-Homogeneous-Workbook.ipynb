{
 "cells": [
  {
   "cell_type": "code",
   "execution_count": 2,
   "metadata": {},
   "outputs": [],
   "source": [
    "import numpy as np\n",
    "import matplotlib.pyplot as plt\n",
    "from IPython.display import clear_output\n",
    "import pandas as pd\n",
    "from sklearn import preprocessing"
   ]
  },
  {
   "cell_type": "code",
   "execution_count": 3,
   "metadata": {},
   "outputs": [],
   "source": [
    "data = np.loadtxt(\"Combined-Cycle-Power-Plant-Training-Data.csv\",delimiter=\",\")"
   ]
  },
  {
   "cell_type": "code",
   "execution_count": 4,
   "metadata": {},
   "outputs": [
    {
     "data": {
      "text/plain": [
       "(7176, 5)"
      ]
     },
     "execution_count": 4,
     "metadata": {},
     "output_type": "execute_result"
    }
   ],
   "source": [
    "data.shape"
   ]
  },
  {
   "cell_type": "code",
   "execution_count": 5,
   "metadata": {},
   "outputs": [],
   "source": [
    "X = data[:,0:4]\n",
    "Y = data[:,4]"
   ]
  },
  {
   "cell_type": "code",
   "execution_count": 6,
   "metadata": {},
   "outputs": [
    {
     "data": {
      "text/plain": [
       "StandardScaler(copy=True, with_mean=True, with_std=True)"
      ]
     },
     "execution_count": 6,
     "metadata": {},
     "output_type": "execute_result"
    }
   ],
   "source": [
    "scaler = preprocessing.StandardScaler()\n",
    "scaler.fit(X)"
   ]
  },
  {
   "cell_type": "code",
   "execution_count": 7,
   "metadata": {},
   "outputs": [],
   "source": [
    "X_scaled = scaler.transform(X)"
   ]
  },
  {
   "cell_type": "code",
   "execution_count": 8,
   "metadata": {},
   "outputs": [
    {
     "data": {
      "text/plain": [
       "((7176, 4), (7176,))"
      ]
     },
     "execution_count": 8,
     "metadata": {},
     "output_type": "execute_result"
    }
   ],
   "source": [
    "X_scaled.shape,Y.shape"
   ]
  },
  {
   "cell_type": "code",
   "execution_count": 9,
   "metadata": {},
   "outputs": [
    {
     "data": {
      "text/html": [
       "<div>\n",
       "<style scoped>\n",
       "    .dataframe tbody tr th:only-of-type {\n",
       "        vertical-align: middle;\n",
       "    }\n",
       "\n",
       "    .dataframe tbody tr th {\n",
       "        vertical-align: top;\n",
       "    }\n",
       "\n",
       "    .dataframe thead th {\n",
       "        text-align: right;\n",
       "    }\n",
       "</style>\n",
       "<table border=\"1\" class=\"dataframe\">\n",
       "  <thead>\n",
       "    <tr style=\"text-align: right;\">\n",
       "      <th></th>\n",
       "      <th>0</th>\n",
       "      <th>1</th>\n",
       "      <th>2</th>\n",
       "      <th>3</th>\n",
       "    </tr>\n",
       "  </thead>\n",
       "  <tbody>\n",
       "    <tr>\n",
       "      <th>count</th>\n",
       "      <td>7.176000e+03</td>\n",
       "      <td>7.176000e+03</td>\n",
       "      <td>7.176000e+03</td>\n",
       "      <td>7.176000e+03</td>\n",
       "    </tr>\n",
       "    <tr>\n",
       "      <th>mean</th>\n",
       "      <td>-1.942302e-15</td>\n",
       "      <td>-2.070379e-14</td>\n",
       "      <td>-1.895690e-13</td>\n",
       "      <td>-1.273294e-14</td>\n",
       "    </tr>\n",
       "    <tr>\n",
       "      <th>std</th>\n",
       "      <td>1.000070e+00</td>\n",
       "      <td>1.000070e+00</td>\n",
       "      <td>1.000070e+00</td>\n",
       "      <td>1.000070e+00</td>\n",
       "    </tr>\n",
       "    <tr>\n",
       "      <th>min</th>\n",
       "      <td>-2.383992e+00</td>\n",
       "      <td>-2.268772e+00</td>\n",
       "      <td>-3.415745e+00</td>\n",
       "      <td>-3.262827e+00</td>\n",
       "    </tr>\n",
       "    <tr>\n",
       "      <th>25%</th>\n",
       "      <td>-8.240709e-01</td>\n",
       "      <td>-9.841242e-01</td>\n",
       "      <td>-7.130639e-01</td>\n",
       "      <td>-6.888175e-01</td>\n",
       "    </tr>\n",
       "    <tr>\n",
       "      <th>50%</th>\n",
       "      <td>9.168063e-02</td>\n",
       "      <td>-1.755335e-01</td>\n",
       "      <td>-5.918944e-02</td>\n",
       "      <td>1.107203e-01</td>\n",
       "    </tr>\n",
       "    <tr>\n",
       "      <th>75%</th>\n",
       "      <td>8.147832e-01</td>\n",
       "      <td>9.608855e-01</td>\n",
       "      <td>6.772576e-01</td>\n",
       "      <td>7.965757e-01</td>\n",
       "    </tr>\n",
       "    <tr>\n",
       "      <th>max</th>\n",
       "      <td>2.159312e+00</td>\n",
       "      <td>2.138871e+00</td>\n",
       "      <td>3.359400e+00</td>\n",
       "      <td>1.838351e+00</td>\n",
       "    </tr>\n",
       "  </tbody>\n",
       "</table>\n",
       "</div>"
      ],
      "text/plain": [
       "                  0             1             2             3\n",
       "count  7.176000e+03  7.176000e+03  7.176000e+03  7.176000e+03\n",
       "mean  -1.942302e-15 -2.070379e-14 -1.895690e-13 -1.273294e-14\n",
       "std    1.000070e+00  1.000070e+00  1.000070e+00  1.000070e+00\n",
       "min   -2.383992e+00 -2.268772e+00 -3.415745e+00 -3.262827e+00\n",
       "25%   -8.240709e-01 -9.841242e-01 -7.130639e-01 -6.888175e-01\n",
       "50%    9.168063e-02 -1.755335e-01 -5.918944e-02  1.107203e-01\n",
       "75%    8.147832e-01  9.608855e-01  6.772576e-01  7.965757e-01\n",
       "max    2.159312e+00  2.138871e+00  3.359400e+00  1.838351e+00"
      ]
     },
     "execution_count": 9,
     "metadata": {},
     "output_type": "execute_result"
    }
   ],
   "source": [
    "df = pd.DataFrame(X_scaled)\n",
    "df.describe()"
   ]
  },
  {
   "cell_type": "code",
   "execution_count": 10,
   "metadata": {},
   "outputs": [
    {
     "data": {
      "text/html": [
       "<div>\n",
       "<style scoped>\n",
       "    .dataframe tbody tr th:only-of-type {\n",
       "        vertical-align: middle;\n",
       "    }\n",
       "\n",
       "    .dataframe tbody tr th {\n",
       "        vertical-align: top;\n",
       "    }\n",
       "\n",
       "    .dataframe thead th {\n",
       "        text-align: right;\n",
       "    }\n",
       "</style>\n",
       "<table border=\"1\" class=\"dataframe\">\n",
       "  <thead>\n",
       "    <tr style=\"text-align: right;\">\n",
       "      <th></th>\n",
       "      <th>0</th>\n",
       "      <th>1</th>\n",
       "      <th>2</th>\n",
       "      <th>3</th>\n",
       "      <th>0_0</th>\n",
       "      <th>1_1</th>\n",
       "      <th>2_2</th>\n",
       "      <th>3_3</th>\n",
       "    </tr>\n",
       "  </thead>\n",
       "  <tbody>\n",
       "    <tr>\n",
       "      <th>count</th>\n",
       "      <td>7.176000e+03</td>\n",
       "      <td>7.176000e+03</td>\n",
       "      <td>7.176000e+03</td>\n",
       "      <td>7.176000e+03</td>\n",
       "      <td>7.176000e+03</td>\n",
       "      <td>7.176000e+03</td>\n",
       "      <td>7.176000e+03</td>\n",
       "      <td>7.176000e+03</td>\n",
       "    </tr>\n",
       "    <tr>\n",
       "      <th>mean</th>\n",
       "      <td>-1.942302e-15</td>\n",
       "      <td>-2.070379e-14</td>\n",
       "      <td>-1.895690e-13</td>\n",
       "      <td>-1.273294e-14</td>\n",
       "      <td>1.000000e+00</td>\n",
       "      <td>1.000000e+00</td>\n",
       "      <td>1.000000e+00</td>\n",
       "      <td>1.000000e+00</td>\n",
       "    </tr>\n",
       "    <tr>\n",
       "      <th>std</th>\n",
       "      <td>1.000070e+00</td>\n",
       "      <td>1.000070e+00</td>\n",
       "      <td>1.000070e+00</td>\n",
       "      <td>1.000070e+00</td>\n",
       "      <td>9.735049e-01</td>\n",
       "      <td>7.471808e-01</td>\n",
       "      <td>1.431425e+00</td>\n",
       "      <td>1.231853e+00</td>\n",
       "    </tr>\n",
       "    <tr>\n",
       "      <th>min</th>\n",
       "      <td>-2.383992e+00</td>\n",
       "      <td>-2.268772e+00</td>\n",
       "      <td>-3.415745e+00</td>\n",
       "      <td>-3.262827e+00</td>\n",
       "      <td>1.489307e-09</td>\n",
       "      <td>8.632078e-07</td>\n",
       "      <td>2.584714e-07</td>\n",
       "      <td>1.582746e-07</td>\n",
       "    </tr>\n",
       "    <tr>\n",
       "      <th>25%</th>\n",
       "      <td>-8.240709e-01</td>\n",
       "      <td>-9.841242e-01</td>\n",
       "      <td>-7.130639e-01</td>\n",
       "      <td>-6.888175e-01</td>\n",
       "      <td>2.142339e-01</td>\n",
       "      <td>4.358869e-01</td>\n",
       "      <td>1.072206e-01</td>\n",
       "      <td>1.325467e-01</td>\n",
       "    </tr>\n",
       "    <tr>\n",
       "      <th>50%</th>\n",
       "      <td>9.168063e-02</td>\n",
       "      <td>-1.755335e-01</td>\n",
       "      <td>-5.918944e-02</td>\n",
       "      <td>1.107203e-01</td>\n",
       "      <td>6.726207e-01</td>\n",
       "      <td>9.607976e-01</td>\n",
       "      <td>4.824987e-01</td>\n",
       "      <td>5.668106e-01</td>\n",
       "    </tr>\n",
       "    <tr>\n",
       "      <th>75%</th>\n",
       "      <td>8.147832e-01</td>\n",
       "      <td>9.608855e-01</td>\n",
       "      <td>6.772576e-01</td>\n",
       "      <td>7.965757e-01</td>\n",
       "      <td>1.564605e+00</td>\n",
       "      <td>1.373247e+00</td>\n",
       "      <td>1.297140e+00</td>\n",
       "      <td>1.401805e+00</td>\n",
       "    </tr>\n",
       "    <tr>\n",
       "      <th>max</th>\n",
       "      <td>2.159312e+00</td>\n",
       "      <td>2.138871e+00</td>\n",
       "      <td>3.359400e+00</td>\n",
       "      <td>1.838351e+00</td>\n",
       "      <td>5.683420e+00</td>\n",
       "      <td>5.147325e+00</td>\n",
       "      <td>1.166731e+01</td>\n",
       "      <td>1.064604e+01</td>\n",
       "    </tr>\n",
       "  </tbody>\n",
       "</table>\n",
       "</div>"
      ],
      "text/plain": [
       "                  0             1             2             3           0_0  \\\n",
       "count  7.176000e+03  7.176000e+03  7.176000e+03  7.176000e+03  7.176000e+03   \n",
       "mean  -1.942302e-15 -2.070379e-14 -1.895690e-13 -1.273294e-14  1.000000e+00   \n",
       "std    1.000070e+00  1.000070e+00  1.000070e+00  1.000070e+00  9.735049e-01   \n",
       "min   -2.383992e+00 -2.268772e+00 -3.415745e+00 -3.262827e+00  1.489307e-09   \n",
       "25%   -8.240709e-01 -9.841242e-01 -7.130639e-01 -6.888175e-01  2.142339e-01   \n",
       "50%    9.168063e-02 -1.755335e-01 -5.918944e-02  1.107203e-01  6.726207e-01   \n",
       "75%    8.147832e-01  9.608855e-01  6.772576e-01  7.965757e-01  1.564605e+00   \n",
       "max    2.159312e+00  2.138871e+00  3.359400e+00  1.838351e+00  5.683420e+00   \n",
       "\n",
       "                1_1           2_2           3_3  \n",
       "count  7.176000e+03  7.176000e+03  7.176000e+03  \n",
       "mean   1.000000e+00  1.000000e+00  1.000000e+00  \n",
       "std    7.471808e-01  1.431425e+00  1.231853e+00  \n",
       "min    8.632078e-07  2.584714e-07  1.582746e-07  \n",
       "25%    4.358869e-01  1.072206e-01  1.325467e-01  \n",
       "50%    9.607976e-01  4.824987e-01  5.668106e-01  \n",
       "75%    1.373247e+00  1.297140e+00  1.401805e+00  \n",
       "max    5.147325e+00  1.166731e+01  1.064604e+01  "
      ]
     },
     "execution_count": 10,
     "metadata": {},
     "output_type": "execute_result"
    }
   ],
   "source": [
    "features = df.columns\n",
    "\n",
    "for feature in features:\n",
    "    comp_feature = str(feature) + \"_\" + str(feature)\n",
    "    df[comp_feature] = df[feature]*df[feature]\n",
    "df.describe()"
   ]
  },
  {
   "cell_type": "code",
   "execution_count": 11,
   "metadata": {},
   "outputs": [],
   "source": [
    "X_scaled = df.values"
   ]
  },
  {
   "cell_type": "code",
   "execution_count": 12,
   "metadata": {},
   "outputs": [],
   "source": [
    "X_ = np.append(X_scaled,np.ones(X_scaled.shape[0]).reshape(-1,1),axis=1)"
   ]
  },
  {
   "cell_type": "code",
   "execution_count": 13,
   "metadata": {},
   "outputs": [
    {
     "data": {
      "text/plain": [
       "(7176, 9)"
      ]
     },
     "execution_count": 13,
     "metadata": {},
     "output_type": "execute_result"
    }
   ],
   "source": [
    "X_.shape"
   ]
  },
  {
   "cell_type": "code",
   "execution_count": 14,
   "metadata": {},
   "outputs": [],
   "source": [
    "def cost(X_train,m,Y_train):\n",
    "    cost_ = 0\n",
    "    N = X_train.shape[0]\n",
    "    for i in range(N):\n",
    "        cost_ += (1/N)*((Y_train[i]-((X_train[i]*m).sum()))**2)\n",
    "    return cost_"
   ]
  },
  {
   "cell_type": "code",
   "execution_count": 15,
   "metadata": {},
   "outputs": [],
   "source": [
    "def step_gradient(X_train,Y_train,m,lr):\n",
    "    \n",
    "    slope_m = np.zeros(X_train.shape[1])\n",
    "    N = X_train.shape[0]\n",
    "    \n",
    "    for i in range(N):\n",
    "        slope_m += (2/N)*(Y_train[i]-(m*X_train[i]).sum())*(-X_train[i])\n",
    "        \n",
    "    m = m - (lr * slope_m)\n",
    "    \n",
    "    return m"
   ]
  },
  {
   "cell_type": "code",
   "execution_count": 16,
   "metadata": {},
   "outputs": [],
   "source": [
    "def fit(X_train,Y_train,lr=0.001,epochs=100,verbose=False):\n",
    "    m = np.zeros(X_train.shape[1])\n",
    "    last_m = m\n",
    "    cost_array = []\n",
    "    unit = epochs//100\n",
    "    for i in range(epochs+1):\n",
    "        last_m = m\n",
    "        m = step_gradient(X_train,Y_train,m,lr)\n",
    "        cost_ = cost(X_train,m,Y_train)\n",
    "        #verbose is used to only show the learning process if required, else it is False by default\n",
    "        if verbose and i%unit==0:\n",
    "            print(\"epoch:\",i,\"cost:\",cost_)\n",
    "            cost_array.append(cost_)\n",
    "    \n",
    "    #To continue the learning loop incase the current epoch and learning parameters doesn't lead to saturation\n",
    "    cont = input(\"Do you want to continue?:\")\n",
    "        \n",
    "    while cont==\"y\":\n",
    "        clear_output(wait=True)\n",
    "        epochs = int(input(\"Please enter the number of epochs to continue for:\"))\n",
    "        unit = int(input(\"Please enter the unit point for epochs:\"))\n",
    "        lr_factor = float(input(\"Please enter the decay factor for the learning rate:\"))\n",
    "        lr*=lr_factor\n",
    "        for i in range(epochs+1):\n",
    "            last_m = m\n",
    "            m = step_gradient(X_train,Y_train,m,lr)\n",
    "            cost_ = cost(X_train,m,Y_train)\n",
    "            if verbose and i%unit==0:\n",
    "                print(\"epoch:\",i,\"cost:\",cost_)\n",
    "                cost_array.append(cost_)\n",
    "        cont = input(\"Do you want to continue?:\")\n",
    "        \n",
    "    return m,cost_array"
   ]
  },
  {
   "cell_type": "code",
   "execution_count": 17,
   "metadata": {},
   "outputs": [],
   "source": [
    "def predict(X_test,m):\n",
    "    y_pred = []\n",
    "    for i in range(X_test.shape[0]):\n",
    "        y_pred.append((X_test[i]*m).sum())\n",
    "    return np.array(y_pred)"
   ]
  },
  {
   "cell_type": "code",
   "execution_count": 18,
   "metadata": {},
   "outputs": [],
   "source": [
    "def score(Y_true,Y_pred):\n",
    "    u = ((Y_true-Y_pred)**2).sum()\n",
    "    v = ((Y_true-(Y_true.mean()))**2).sum()\n",
    "    return 1-(u/v)"
   ]
  },
  {
   "cell_type": "code",
   "execution_count": 20,
   "metadata": {},
   "outputs": [
    {
     "name": "stdout",
     "output_type": "stream",
     "text": [
      "epoch: 0 cost: 55494.69688951117\n",
      "epoch: 10 cost: 13145.713865014695\n",
      "epoch: 20 cost: 5349.546407026443\n",
      "epoch: 30 cost: 2400.932368641175\n",
      "epoch: 40 cost: 1158.9583730379738\n",
      "epoch: 50 cost: 599.8521141447752\n",
      "epoch: 60 cost: 334.3304570744645\n",
      "epoch: 70 cost: 201.27223401233877\n",
      "epoch: 80 cost: 130.567291565414\n",
      "epoch: 90 cost: 90.59779353121192\n",
      "epoch: 100 cost: 66.61249977909767\n",
      "epoch: 110 cost: 51.451838940439615\n",
      "epoch: 120 cost: 41.46822581100633\n",
      "epoch: 130 cost: 34.694606821186845\n",
      "epoch: 140 cost: 30.00378111752873\n",
      "epoch: 150 cost: 26.711232101110436\n",
      "epoch: 160 cost: 24.380124569547064\n",
      "epoch: 170 cost: 22.72073672685926\n",
      "epoch: 180 cost: 21.535520759644854\n",
      "epoch: 190 cost: 20.687218685360108\n",
      "epoch: 200 cost: 20.079281590151066\n",
      "epoch: 210 cost: 19.64326111857094\n",
      "epoch: 220 cost: 19.33039165494027\n",
      "epoch: 230 cost: 19.1058243007682\n",
      "epoch: 240 cost: 18.944608457658227\n",
      "epoch: 250 cost: 18.828859731136003\n",
      "epoch: 260 cost: 18.745749659102746\n",
      "epoch: 270 cost: 18.68607241577254\n",
      "epoch: 280 cost: 18.64322006774724\n",
      "epoch: 290 cost: 18.612448681056435\n",
      "epoch: 300 cost: 18.590352179255778\n",
      "epoch: 310 cost: 18.574484901367043\n",
      "epoch: 320 cost: 18.563090727952194\n",
      "epoch: 330 cost: 18.554908640191982\n",
      "epoch: 340 cost: 18.549033124401692\n",
      "epoch: 350 cost: 18.544813942968258\n",
      "epoch: 360 cost: 18.541784166334562\n",
      "epoch: 370 cost: 18.53960849570663\n",
      "epoch: 380 cost: 18.538046154948944\n",
      "epoch: 390 cost: 18.536924243904352\n",
      "epoch: 400 cost: 18.536118603733293\n",
      "epoch: 410 cost: 18.535540076483304\n",
      "epoch: 420 cost: 18.535124638178118\n",
      "epoch: 430 cost: 18.534826313444235\n",
      "epoch: 440 cost: 18.534612087537273\n",
      "epoch: 450 cost: 18.534458252691355\n",
      "epoch: 460 cost: 18.534347784446695\n",
      "epoch: 470 cost: 18.53426845760101\n",
      "epoch: 480 cost: 18.534211493280683\n",
      "epoch: 490 cost: 18.534170587408923\n",
      "epoch: 500 cost: 18.534141213050642\n",
      "epoch: 510 cost: 18.53412011943035\n",
      "epoch: 520 cost: 18.534104972178124\n",
      "epoch: 530 cost: 18.534094094991335\n",
      "epoch: 540 cost: 18.534086284122875\n",
      "epoch: 550 cost: 18.534080675166532\n",
      "epoch: 560 cost: 18.5340766473953\n",
      "epoch: 570 cost: 18.534073755067258\n",
      "epoch: 580 cost: 18.534071678097188\n",
      "epoch: 590 cost: 18.534070186632416\n",
      "epoch: 600 cost: 18.53406911561696\n",
      "epoch: 610 cost: 18.534068346524712\n",
      "epoch: 620 cost: 18.534067794242297\n",
      "epoch: 630 cost: 18.534067397650343\n",
      "epoch: 640 cost: 18.534067112859013\n",
      "epoch: 650 cost: 18.534066908351424\n",
      "epoch: 660 cost: 18.53406676149533\n",
      "epoch: 670 cost: 18.534066656038554\n",
      "epoch: 680 cost: 18.534066580310284\n",
      "epoch: 690 cost: 18.53406652593015\n",
      "epoch: 700 cost: 18.53406648687992\n",
      "epoch: 710 cost: 18.534066458838232\n",
      "epoch: 720 cost: 18.534066438701345\n",
      "epoch: 730 cost: 18.534066424241345\n",
      "epoch: 740 cost: 18.534066413857683\n",
      "epoch: 750 cost: 18.534066406401116\n",
      "epoch: 760 cost: 18.53406640104657\n",
      "epoch: 770 cost: 18.53406639720147\n",
      "epoch: 780 cost: 18.53406639444038\n",
      "epoch: 790 cost: 18.534066392457678\n",
      "epoch: 800 cost: 18.53406639103383\n",
      "epoch: 810 cost: 18.534066390011418\n",
      "epoch: 820 cost: 18.534066389277267\n",
      "epoch: 830 cost: 18.534066388749892\n",
      "epoch: 840 cost: 18.534066388371354\n",
      "epoch: 850 cost: 18.534066388099507\n",
      "epoch: 860 cost: 18.534066387904247\n",
      "epoch: 870 cost: 18.534066387764025\n",
      "epoch: 880 cost: 18.53406638766343\n",
      "epoch: 890 cost: 18.534066387591047\n",
      "epoch: 900 cost: 18.53406638753909\n",
      "epoch: 910 cost: 18.534066387501912\n",
      "epoch: 920 cost: 18.53406638747507\n",
      "epoch: 930 cost: 18.53406638745593\n",
      "epoch: 940 cost: 18.534066387442152\n",
      "epoch: 950 cost: 18.534066387432162\n",
      "epoch: 960 cost: 18.534066387425096\n",
      "epoch: 970 cost: 18.53406638741996\n",
      "epoch: 980 cost: 18.534066387416257\n",
      "epoch: 990 cost: 18.53406638741367\n",
      "epoch: 1000 cost: 18.534066387411684\n",
      "Do you want to continue?:n\n",
      "[-1.35782042e+01 -3.75408758e+00  6.61026090e-01 -1.72600596e+00\n",
      "  1.64994924e+00  2.03752414e-01 -3.92778096e-01 -1.07669345e-01\n",
      "  4.53078039e+02]\n"
     ]
    }
   ],
   "source": [
    "m, cost_array = fit(X_,Y,epochs=1000,lr=0.1,verbose=True)\n",
    "print(m)"
   ]
  },
  {
   "cell_type": "code",
   "execution_count": 21,
   "metadata": {},
   "outputs": [
    {
     "data": {
      "image/png": "[encoded data removed]",
      "text/plain": [
       "<Figure size 432x288 with 1 Axes>"
      ]
     },
     "metadata": {
      "needs_background": "light"
     },
     "output_type": "display_data"
    }
   ],
   "source": [
    "plt.plot(cost_array)\n",
    "plt.grid()\n",
    "plt.show()"
   ]
  },
  {
   "cell_type": "code",
   "execution_count": 22,
   "metadata": {},
   "outputs": [
    {
     "data": {
      "text/plain": [
       "(7176,)"
      ]
     },
     "execution_count": 22,
     "metadata": {},
     "output_type": "execute_result"
    }
   ],
   "source": [
    "y_pred = predict(X_,m)\n",
    "y_pred.shape"
   ]
  },
  {
   "cell_type": "code",
   "execution_count": 23,
   "metadata": {},
   "outputs": [
    {
     "data": {
      "text/plain": [
       "0.9368628812337967"
      ]
     },
     "execution_count": 23,
     "metadata": {},
     "output_type": "execute_result"
    }
   ],
   "source": [
    "score(Y,y_pred)"
   ]
  },
  {
   "cell_type": "code",
   "execution_count": 24,
   "metadata": {},
   "outputs": [],
   "source": [
    "X_test = np.loadtxt(\"Combined-Cycle-Power-Plant-Testing-Data.csv\",delimiter=\",\")"
   ]
  },
  {
   "cell_type": "code",
   "execution_count": 25,
   "metadata": {},
   "outputs": [],
   "source": [
    "X_test_scaled = scaler.transform(X_test)"
   ]
  },
  {
   "cell_type": "code",
   "execution_count": 26,
   "metadata": {},
   "outputs": [],
   "source": [
    "df_test = pd.DataFrame(X_test_scaled)"
   ]
  },
  {
   "cell_type": "code",
   "execution_count": 27,
   "metadata": {},
   "outputs": [
    {
     "data": {
      "text/html": [
       "<div>\n",
       "<style scoped>\n",
       "    .dataframe tbody tr th:only-of-type {\n",
       "        vertical-align: middle;\n",
       "    }\n",
       "\n",
       "    .dataframe tbody tr th {\n",
       "        vertical-align: top;\n",
       "    }\n",
       "\n",
       "    .dataframe thead th {\n",
       "        text-align: right;\n",
       "    }\n",
       "</style>\n",
       "<table border=\"1\" class=\"dataframe\">\n",
       "  <thead>\n",
       "    <tr style=\"text-align: right;\">\n",
       "      <th></th>\n",
       "      <th>0</th>\n",
       "      <th>1</th>\n",
       "      <th>2</th>\n",
       "      <th>3</th>\n",
       "      <th>0_0</th>\n",
       "      <th>1_1</th>\n",
       "      <th>2_2</th>\n",
       "      <th>3_3</th>\n",
       "    </tr>\n",
       "  </thead>\n",
       "  <tbody>\n",
       "    <tr>\n",
       "      <th>count</th>\n",
       "      <td>2392.000000</td>\n",
       "      <td>2392.000000</td>\n",
       "      <td>2392.000000</td>\n",
       "      <td>2392.000000</td>\n",
       "      <td>2392.000000</td>\n",
       "      <td>2.392000e+03</td>\n",
       "      <td>2.392000e+03</td>\n",
       "      <td>2.392000e+03</td>\n",
       "    </tr>\n",
       "    <tr>\n",
       "      <th>mean</th>\n",
       "      <td>0.011516</td>\n",
       "      <td>0.005537</td>\n",
       "      <td>-0.002652</td>\n",
       "      <td>0.009070</td>\n",
       "      <td>0.975827</td>\n",
       "      <td>9.728550e-01</td>\n",
       "      <td>9.652385e-01</td>\n",
       "      <td>9.865921e-01</td>\n",
       "    </tr>\n",
       "    <tr>\n",
       "      <th>std</th>\n",
       "      <td>0.987979</td>\n",
       "      <td>0.986525</td>\n",
       "      <td>0.982667</td>\n",
       "      <td>0.993440</td>\n",
       "      <td>0.976802</td>\n",
       "      <td>7.228607e-01</td>\n",
       "      <td>1.442370e+00</td>\n",
       "      <td>1.269609e+00</td>\n",
       "    </tr>\n",
       "    <tr>\n",
       "      <th>min</th>\n",
       "      <td>-2.173951</td>\n",
       "      <td>-2.268772</td>\n",
       "      <td>-3.273234</td>\n",
       "      <td>-3.186924</td>\n",
       "      <td>0.000002</td>\n",
       "      <td>8.632078e-07</td>\n",
       "      <td>2.584714e-07</td>\n",
       "      <td>8.177685e-08</td>\n",
       "    </tr>\n",
       "    <tr>\n",
       "      <th>25%</th>\n",
       "      <td>-0.798652</td>\n",
       "      <td>-0.984908</td>\n",
       "      <td>-0.664442</td>\n",
       "      <td>-0.660611</td>\n",
       "      <td>0.196950</td>\n",
       "      <td>4.031565e-01</td>\n",
       "      <td>9.693223e-02</td>\n",
       "      <td>1.179707e-01</td>\n",
       "    </tr>\n",
       "    <tr>\n",
       "      <th>50%</th>\n",
       "      <td>0.109741</td>\n",
       "      <td>-0.120634</td>\n",
       "      <td>-0.039909</td>\n",
       "      <td>0.124054</td>\n",
       "      <td>0.646421</td>\n",
       "      <td>9.552234e-01</td>\n",
       "      <td>4.341551e-01</td>\n",
       "      <td>5.224931e-01</td>\n",
       "    </tr>\n",
       "    <tr>\n",
       "      <th>75%</th>\n",
       "      <td>0.808428</td>\n",
       "      <td>0.956964</td>\n",
       "      <td>0.655462</td>\n",
       "      <td>0.767343</td>\n",
       "      <td>1.478985</td>\n",
       "      <td>1.354927e+00</td>\n",
       "      <td>1.237688e+00</td>\n",
       "      <td>1.368008e+00</td>\n",
       "    </tr>\n",
       "    <tr>\n",
       "      <th>max</th>\n",
       "      <td>2.338583</td>\n",
       "      <td>2.036131</td>\n",
       "      <td>3.357724</td>\n",
       "      <td>1.836300</td>\n",
       "      <td>5.468970</td>\n",
       "      <td>5.147325e+00</td>\n",
       "      <td>1.127431e+01</td>\n",
       "      <td>1.015649e+01</td>\n",
       "    </tr>\n",
       "  </tbody>\n",
       "</table>\n",
       "</div>"
      ],
      "text/plain": [
       "                 0            1            2            3          0_0  \\\n",
       "count  2392.000000  2392.000000  2392.000000  2392.000000  2392.000000   \n",
       "mean      0.011516     0.005537    -0.002652     0.009070     0.975827   \n",
       "std       0.987979     0.986525     0.982667     0.993440     0.976802   \n",
       "min      -2.173951    -2.268772    -3.273234    -3.186924     0.000002   \n",
       "25%      -0.798652    -0.984908    -0.664442    -0.660611     0.196950   \n",
       "50%       0.109741    -0.120634    -0.039909     0.124054     0.646421   \n",
       "75%       0.808428     0.956964     0.655462     0.767343     1.478985   \n",
       "max       2.338583     2.036131     3.357724     1.836300     5.468970   \n",
       "\n",
       "                1_1           2_2           3_3  \n",
       "count  2.392000e+03  2.392000e+03  2.392000e+03  \n",
       "mean   9.728550e-01  9.652385e-01  9.865921e-01  \n",
       "std    7.228607e-01  1.442370e+00  1.269609e+00  \n",
       "min    8.632078e-07  2.584714e-07  8.177685e-08  \n",
       "25%    4.031565e-01  9.693223e-02  1.179707e-01  \n",
       "50%    9.552234e-01  4.341551e-01  5.224931e-01  \n",
       "75%    1.354927e+00  1.237688e+00  1.368008e+00  \n",
       "max    5.147325e+00  1.127431e+01  1.015649e+01  "
      ]
     },
     "execution_count": 27,
     "metadata": {},
     "output_type": "execute_result"
    }
   ],
   "source": [
    "features = df_test.columns\n",
    "\n",
    "for feature in features:\n",
    "    comp_feature = str(feature) + \"_\" + str(feature)\n",
    "    df_test[comp_feature] = df_test[feature]*df_test[feature]\n",
    "df_test.describe()"
   ]
  },
  {
   "cell_type": "code",
   "execution_count": 28,
   "metadata": {},
   "outputs": [],
   "source": [
    "X_test = df_test.values"
   ]
  },
  {
   "cell_type": "code",
   "execution_count": 29,
   "metadata": {},
   "outputs": [],
   "source": [
    "X_test_ = np.append(X_test,np.ones(X_test.shape[0]).reshape(-1,1),axis=1)"
   ]
  },
  {
   "cell_type": "code",
   "execution_count": 30,
   "metadata": {},
   "outputs": [
    {
     "data": {
      "text/plain": [
       "(2392, 9)"
      ]
     },
     "execution_count": 30,
     "metadata": {},
     "output_type": "execute_result"
    }
   ],
   "source": [
    "X_test_.shape"
   ]
  },
  {
   "cell_type": "code",
   "execution_count": 31,
   "metadata": {},
   "outputs": [],
   "source": [
    "y_pred_test = predict(X_test_,m)"
   ]
  },
  {
   "cell_type": "code",
   "execution_count": 32,
   "metadata": {},
   "outputs": [],
   "source": [
    "np.savetxt('pred_homogeneous_dummy_features_feature_scaling.csv',y_pred_test)"
   ]
  },
  {
   "cell_type": "code",
   "execution_count": null,
   "metadata": {},
   "outputs": [],
   "source": []
  }
 ],
 "metadata": {
  "kernelspec": {
   "display_name": "Python 3",
   "language": "python",
   "name": "python3"
  },
  "language_info": {
   "codemirror_mode": {
    "name": "ipython",
    "version": 3
   },
   "file_extension": ".py",
   "mimetype": "text/x-python",
   "name": "python",
   "nbconvert_exporter": "python",
   "pygments_lexer": "ipython3",
   "version": "3.6.8"
  }
 },
 "nbformat": 4,
 "nbformat_minor": 2
}
