{
 "cells": [
  {
   "cell_type": "code",
   "execution_count": 25,
   "metadata": {},
   "outputs": [],
   "source": [
    "import tensorflow as tf"
   ]
  },
  {
   "cell_type": "code",
   "execution_count": 26,
   "metadata": {},
   "outputs": [
    {
     "name": "stdout",
     "output_type": "stream",
     "text": [
      "Extracting MNIST_data/train-images-idx3-ubyte.gz\n",
      "Extracting MNIST_data/train-labels-idx1-ubyte.gz\n",
      "Extracting MNIST_data/t10k-images-idx3-ubyte.gz\n",
      "Extracting MNIST_data/t10k-labels-idx1-ubyte.gz\n"
     ]
    }
   ],
   "source": [
    "from tensorflow.examples.tutorials.mnist import input_data\n",
    "mnist = input_data.read_data_sets(\"MNIST_data/\",one_hot=True)"
   ]
  },
  {
   "cell_type": "code",
   "execution_count": 33,
   "metadata": {},
   "outputs": [],
   "source": [
    "input_width = 28\n",
    "input_length = 28\n",
    "input_channels = 1\n",
    "input_pixels = 784\n",
    "\n",
    "n_conv1 = 32\n",
    "n_conv2 = 64\n",
    "conv1_stride = 1\n",
    "conv2_stride = 1\n",
    "max_pool1_k = 2\n",
    "max_pool2_k = 2\n",
    "conv1_k = 5\n",
    "conv2_k = 5\n",
    "n_hidden = 1024\n",
    "n_out = 10\n",
    "\n",
    "input_hidden = (input_width//(max_pool1_k*max_pool2_k))*(input_length//(max_pool1_k*max_pool2_k))*n_conv2"
   ]
  },
  {
   "cell_type": "code",
   "execution_count": 34,
   "metadata": {},
   "outputs": [],
   "source": [
    "weights = {\n",
    "    \"wc1\" : tf.Variable(tf.random_normal([conv1_k,conv1_k,input_channels,n_conv1])),\n",
    "    \"wc2\" : tf.Variable(tf.random_normal([conv2_k,conv2_k,n_conv1,n_conv2])),\n",
    "    \"wh\" : tf.Variable(tf.random_normal([input_hidden,n_hidden])),\n",
    "    \"wo\" : tf.Variable(tf.random_normal([n_hidden,n_out]))\n",
    "}\n",
    "\n",
    "biases = {\n",
    "    \"bc1\" : tf.Variable(tf.random_normal([n_conv1])),\n",
    "    \"bc2\" : tf.Variable(tf.random_normal([n_conv2])),\n",
    "    \"bh\" : tf.Variable(tf.random_normal([n_hidden])),\n",
    "    \"bo\" : tf.Variable(tf.random_normal([n_out])),\n",
    "}"
   ]
  },
  {
   "cell_type": "code",
   "execution_count": null,
   "metadata": {},
   "outputs": [],
   "source": [
    "def conv(x,weight,bias,stride = 1):\n",
    "    \n",
    "    out = tf.nn.conv2d(x, weights,padding=\"SAME\",strides= [1,stride,stride,1])\n",
    "    out = tf.nn.bias_add(out,bias)\n",
    "    out = tf.nn.relu(out)\n",
    "    return out \n",
    "\n",
    "def "
   ]
  },
  {
   "cell_type": "code",
   "execution_count": 36,
   "metadata": {},
   "outputs": [],
   "source": [
    "def cnn(x,weights,bias):\n",
    "    x = tf.reshape(x,shape([-1,input_length,input_width,input_channels]))\n",
    "    \n",
    "    conv1 = conv(x,weights[\"wc1\"],biases[\"bc1\"],conv1_stride)\n",
    "    conv1_pool = maxpooling(conv1,max_pool1_k)\n",
    "    \n",
    "    conv2 = conv(conv1_pool,weights[\"wc2\"],biases[\"bc2\"],conv2_stride)\n",
    "    conv2_pool = maxpooling(conv2,max_pool2_k)\n",
    "    \n",
    "    hidden_input = tf.reshape(conv2_pool,shape([-1,input_hidden]))\n",
    "    hidden_out_pre_act = tf.add(tf.matmul(hidden_input,weights[\"wh1\"],biases[\"bh\"]))\n",
    "    hidden_out = tf.nn.relu(hidden_out_pre_act)\n",
    "    \n",
    "    output = tf.add(tf.matmul(hidden_output,weights[\"wo\"],biases[\"bo\"]))\n",
    "    \n",
    "    return output"
   ]
  },
  {
   "cell_type": "code",
   "execution_count": null,
   "metadata": {},
   "outputs": [],
   "source": []
  }
 ],
 "metadata": {
  "kernelspec": {
   "display_name": "Python 3",
   "language": "python",
   "name": "python3"
  },
  "language_info": {
   "codemirror_mode": {
    "name": "ipython",
    "version": 3
   },
   "file_extension": ".py",
   "mimetype": "text/x-python",
   "name": "python",
   "nbconvert_exporter": "python",
   "pygments_lexer": "ipython3",
   "version": "3.6.6"
  }
 },
 "nbformat": 4,
 "nbformat_minor": 2
}
