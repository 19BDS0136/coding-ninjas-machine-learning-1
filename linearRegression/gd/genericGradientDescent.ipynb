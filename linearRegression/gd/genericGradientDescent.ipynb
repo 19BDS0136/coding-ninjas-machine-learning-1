{
 "cells": [
  {
   "cell_type": "code",
   "execution_count": 1,
   "metadata": {
    "collapsed": true
   },
   "outputs": [],
   "source": [
    "import numpy as np\n",
    "import pandas as pd\n",
    "from sklearn import datasets\n",
    "from sklearn import model_selection"
   ]
  },
  {
   "cell_type": "code",
   "execution_count": 16,
   "metadata": {
    "collapsed": true
   },
   "outputs": [],
   "source": [
    "iris = datasets.load_iris()"
   ]
  },
  {
   "cell_type": "code",
   "execution_count": 17,
   "metadata": {},
   "outputs": [],
   "source": [
    "x = iris.data\n",
    "y = iris.target\n",
    "df = pd.DataFrame(x)"
   ]
  },
  {
   "cell_type": "code",
   "execution_count": 18,
   "metadata": {},
   "outputs": [],
   "source": [
    "df[\"new\"] = 1"
   ]
  },
  {
   "cell_type": "code",
   "execution_count": 74,
   "metadata": {},
   "outputs": [],
   "source": [
    "df.head()\n",
    "x = df.values\n",
    "xTrain,xTest,yTrain,yTest = model_selection.train_test_split(x,y,random_state=0)"
   ]
  },
  {
   "cell_type": "code",
   "execution_count": 20,
   "metadata": {
    "collapsed": true
   },
   "outputs": [],
   "source": [
    "def step(x,y,learnRate,m):\n",
    "    N = len(x)\n",
    "    M = len(m)\n",
    "    for i in range(M):\n",
    "        slope_m = 0\n",
    "        for j in range(N):\n",
    "            slope_m +=(-2/N)*(y[j]-(m*x[j]).sum())*x[j][i]\n",
    "        m[i] = m[i]-(learnRate*slope_m)\n",
    "    return m"
   ]
  },
  {
   "cell_type": "code",
   "execution_count": 21,
   "metadata": {
    "collapsed": true
   },
   "outputs": [],
   "source": [
    "def cost(x,y,m):\n",
    "    N = len(x)\n",
    "    ct = 0\n",
    "    for i in range(N):\n",
    "        ct+=(1/N)*((y[i]-((m*x[i]).sum()))**2)\n",
    "    return ct"
   ]
  },
  {
   "cell_type": "code",
   "execution_count": 43,
   "metadata": {
    "collapsed": true
   },
   "outputs": [],
   "source": [
    "def gd(x,y,numIter,learnRate):\n",
    "    m = np.zeros(x.shape[1])\n",
    "    ct = cost(x,y,m)\n",
    "    for i in range(numIter):\n",
    "        m  = step(x,y,learnRate,m)\n",
    "        cNew = cost(x,y,m)\n",
    "        print(cNew)\n",
    "    return m"
   ]
  },
  {
   "cell_type": "code",
   "execution_count": 83,
   "metadata": {},
   "outputs": [],
   "source": [
    "def run(x,y):\n",
    "    numIter = 50\n",
    "    learnRate = 0.1\n",
    "    m = gd(x,y,numIter,learnRate)\n",
    "    dfm = pd.DataFrame(m)\n",
    "    print(dfm)\n",
    "    return m"
   ]
  },
  {
   "cell_type": "code",
   "execution_count": 84,
   "metadata": {},
   "outputs": [
    {
     "name": "stdout",
     "output_type": "stream",
     "text": [
      "54.4331250756\n",
      "7.57244561018\n",
      "4.95349463634\n",
      "4.30931660488\n",
      "4.09570229216\n",
      "4.00133670551\n",
      "3.95671229737\n",
      "3.93498757519\n",
      "3.92426630583\n",
      "3.9189402612\n",
      "3.91628580333\n",
      "3.91496070527\n",
      "3.91429868768\n",
      "3.91396781159\n",
      "3.9138024067\n",
      "3.91371971254\n",
      "3.91367836754\n",
      "3.91365769555\n",
      "3.91364735969\n",
      "3.91364219179\n",
      "3.91363960784\n",
      "3.91363831588\n",
      "3.91363766989\n",
      "3.9136373469\n",
      "3.9136371854\n",
      "3.91363710466\n",
      "3.91363706428\n",
      "3.9136370441\n",
      "3.913637034\n",
      "3.91363702896\n",
      "3.91363702643\n",
      "3.91363702517\n",
      "3.91363702454\n",
      "3.91363702422\n",
      "3.91363702407\n",
      "3.91363702399\n",
      "3.91363702395\n",
      "3.91363702393\n",
      "3.91363702392\n",
      "3.91363702391\n",
      "3.91363702391\n",
      "3.91363702391\n",
      "3.91363702391\n",
      "3.91363702391\n",
      "3.91363702391\n",
      "3.91363702391\n",
      "3.91363702391\n",
      "3.91363702391\n",
      "3.91363702391\n",
      "3.91363702391\n",
      "          0\n",
      "0 -1.237030\n",
      "1  0.030044\n",
      "2  3.496303\n",
      "3 -3.699918\n",
      "4 -0.885557\n"
     ]
    }
   ],
   "source": [
    "m = run(xTrain,yTrain)"
   ]
  },
  {
   "cell_type": "code",
   "execution_count": 11,
   "metadata": {},
   "outputs": [
    {
     "data": {
      "text/plain": [
       "(506, 14)"
      ]
     },
     "execution_count": 11,
     "metadata": {},
     "output_type": "execute_result"
    }
   ],
   "source": [
    "x.shape"
   ]
  },
  {
   "cell_type": "code",
   "execution_count": 12,
   "metadata": {},
   "outputs": [
    {
     "data": {
      "text/plain": [
       "0.0"
      ]
     },
     "execution_count": 12,
     "metadata": {},
     "output_type": "execute_result"
    }
   ],
   "source": [
    "z = np.zeros(10)\n",
    "z[1]"
   ]
  },
  {
   "cell_type": "code",
   "execution_count": 13,
   "metadata": {
    "collapsed": true
   },
   "outputs": [],
   "source": [
    "mp = np.ones(14)"
   ]
  },
  {
   "cell_type": "code",
   "execution_count": 14,
   "metadata": {},
   "outputs": [
    {
     "data": {
      "text/html": [
       "<div>\n",
       "<style>\n",
       "    .dataframe thead tr:only-child th {\n",
       "        text-align: right;\n",
       "    }\n",
       "\n",
       "    .dataframe thead th {\n",
       "        text-align: left;\n",
       "    }\n",
       "\n",
       "    .dataframe tbody tr th {\n",
       "        vertical-align: top;\n",
       "    }\n",
       "</style>\n",
       "<table border=\"1\" class=\"dataframe\">\n",
       "  <thead>\n",
       "    <tr style=\"text-align: right;\">\n",
       "      <th></th>\n",
       "      <th>0</th>\n",
       "    </tr>\n",
       "  </thead>\n",
       "  <tbody>\n",
       "    <tr>\n",
       "      <th>0</th>\n",
       "      <td>0.22489</td>\n",
       "    </tr>\n",
       "    <tr>\n",
       "      <th>1</th>\n",
       "      <td>12.50000</td>\n",
       "    </tr>\n",
       "    <tr>\n",
       "      <th>2</th>\n",
       "      <td>7.87000</td>\n",
       "    </tr>\n",
       "    <tr>\n",
       "      <th>3</th>\n",
       "      <td>0.00000</td>\n",
       "    </tr>\n",
       "    <tr>\n",
       "      <th>4</th>\n",
       "      <td>0.52400</td>\n",
       "    </tr>\n",
       "    <tr>\n",
       "      <th>5</th>\n",
       "      <td>6.37700</td>\n",
       "    </tr>\n",
       "    <tr>\n",
       "      <th>6</th>\n",
       "      <td>94.30000</td>\n",
       "    </tr>\n",
       "    <tr>\n",
       "      <th>7</th>\n",
       "      <td>6.34670</td>\n",
       "    </tr>\n",
       "    <tr>\n",
       "      <th>8</th>\n",
       "      <td>5.00000</td>\n",
       "    </tr>\n",
       "    <tr>\n",
       "      <th>9</th>\n",
       "      <td>311.00000</td>\n",
       "    </tr>\n",
       "    <tr>\n",
       "      <th>10</th>\n",
       "      <td>15.20000</td>\n",
       "    </tr>\n",
       "    <tr>\n",
       "      <th>11</th>\n",
       "      <td>392.52000</td>\n",
       "    </tr>\n",
       "    <tr>\n",
       "      <th>12</th>\n",
       "      <td>20.45000</td>\n",
       "    </tr>\n",
       "    <tr>\n",
       "      <th>13</th>\n",
       "      <td>1.00000</td>\n",
       "    </tr>\n",
       "  </tbody>\n",
       "</table>\n",
       "</div>"
      ],
      "text/plain": [
       "            0\n",
       "0     0.22489\n",
       "1    12.50000\n",
       "2     7.87000\n",
       "3     0.00000\n",
       "4     0.52400\n",
       "5     6.37700\n",
       "6    94.30000\n",
       "7     6.34670\n",
       "8     5.00000\n",
       "9   311.00000\n",
       "10   15.20000\n",
       "11  392.52000\n",
       "12   20.45000\n",
       "13    1.00000"
      ]
     },
     "execution_count": 14,
     "metadata": {},
     "output_type": "execute_result"
    }
   ],
   "source": [
    "df2 = pd.DataFrame(mp*x[10])\n",
    "df2"
   ]
  },
  {
   "cell_type": "code",
   "execution_count": 109,
   "metadata": {},
   "outputs": [
    {
     "name": "stdout",
     "output_type": "stream",
     "text": [
      "(38, 5)\n",
      "(38,)\n"
     ]
    }
   ],
   "source": [
    "N = len(xTest)\n",
    "yPre = np.zeros(N)\n",
    "for i in range(N):\n",
    "    yPre[i] = (m*xTest[i]).sum()\n",
    "print(xTest.shape)\n",
    "print(yPre.shape)"
   ]
  },
  {
   "cell_type": "code",
   "execution_count": 110,
   "metadata": {},
   "outputs": [],
   "source": [
    "def cod(yTest,yPre):\n",
    "    u = ((yTest-yPre)**2).sum()\n",
    "    v = ((yTest-yTest.mean())**2).sum()\n",
    "    return 1-(u/v)"
   ]
  },
  {
   "cell_type": "code",
   "execution_count": 87,
   "metadata": {},
   "outputs": [
    {
     "data": {
      "text/html": [
       "<div>\n",
       "<style>\n",
       "    .dataframe thead tr:only-child th {\n",
       "        text-align: right;\n",
       "    }\n",
       "\n",
       "    .dataframe thead th {\n",
       "        text-align: left;\n",
       "    }\n",
       "\n",
       "    .dataframe tbody tr th {\n",
       "        vertical-align: top;\n",
       "    }\n",
       "</style>\n",
       "<table border=\"1\" class=\"dataframe\">\n",
       "  <thead>\n",
       "    <tr style=\"text-align: right;\">\n",
       "      <th></th>\n",
       "      <th>0</th>\n",
       "      <th>1</th>\n",
       "      <th>2</th>\n",
       "      <th>3</th>\n",
       "      <th>4</th>\n",
       "    </tr>\n",
       "  </thead>\n",
       "  <tbody>\n",
       "    <tr>\n",
       "      <th>0</th>\n",
       "      <td>-7.174772</td>\n",
       "      <td>0.084122</td>\n",
       "      <td>17.831148</td>\n",
       "      <td>-8.879804</td>\n",
       "      <td>-0.885557</td>\n",
       "    </tr>\n",
       "    <tr>\n",
       "      <th>1</th>\n",
       "      <td>-7.422178</td>\n",
       "      <td>0.066096</td>\n",
       "      <td>13.985214</td>\n",
       "      <td>-3.699918</td>\n",
       "      <td>-0.885557</td>\n",
       "    </tr>\n",
       "    <tr>\n",
       "      <th>2</th>\n",
       "      <td>-6.803663</td>\n",
       "      <td>0.126183</td>\n",
       "      <td>4.894825</td>\n",
       "      <td>-0.739984</td>\n",
       "      <td>-0.885557</td>\n",
       "    </tr>\n",
       "    <tr>\n",
       "      <th>3</th>\n",
       "      <td>-9.030316</td>\n",
       "      <td>0.087126</td>\n",
       "      <td>22.026712</td>\n",
       "      <td>-6.659853</td>\n",
       "      <td>-0.885557</td>\n",
       "    </tr>\n",
       "    <tr>\n",
       "      <th>4</th>\n",
       "      <td>-6.185148</td>\n",
       "      <td>0.102148</td>\n",
       "      <td>5.244455</td>\n",
       "      <td>-0.739984</td>\n",
       "      <td>-0.885557</td>\n",
       "    </tr>\n",
       "  </tbody>\n",
       "</table>\n",
       "</div>"
      ],
      "text/plain": [
       "          0         1          2         3         4\n",
       "0 -7.174772  0.084122  17.831148 -8.879804 -0.885557\n",
       "1 -7.422178  0.066096  13.985214 -3.699918 -0.885557\n",
       "2 -6.803663  0.126183   4.894825 -0.739984 -0.885557\n",
       "3 -9.030316  0.087126  22.026712 -6.659853 -0.885557\n",
       "4 -6.185148  0.102148   5.244455 -0.739984 -0.885557"
      ]
     },
     "execution_count": 87,
     "metadata": {},
     "output_type": "execute_result"
    }
   ],
   "source": [
    "ydf.head()"
   ]
  },
  {
   "cell_type": "code",
   "execution_count": 111,
   "metadata": {},
   "outputs": [
    {
     "data": {
      "text/plain": [
       "-7.2743467627464433"
      ]
     },
     "execution_count": 111,
     "metadata": {},
     "output_type": "execute_result"
    }
   ],
   "source": [
    "cod(yTest,yPre)"
   ]
  },
  {
   "cell_type": "code",
   "execution_count": null,
   "metadata": {
    "collapsed": true
   },
   "outputs": [],
   "source": []
  }
 ],
 "metadata": {
  "kernelspec": {
   "display_name": "Python 3",
   "language": "python",
   "name": "python3"
  },
  "language_info": {
   "codemirror_mode": {
    "name": "ipython",
    "version": 3
   },
   "file_extension": ".py",
   "mimetype": "text/x-python",
   "name": "python",
   "nbconvert_exporter": "python",
   "pygments_lexer": "ipython3",
   "version": "3.6.3"
  }
 },
 "nbformat": 4,
 "nbformat_minor": 2
}
