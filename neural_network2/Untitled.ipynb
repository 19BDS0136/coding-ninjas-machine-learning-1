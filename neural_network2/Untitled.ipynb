{
 "cells": [
  {
   "cell_type": "code",
   "execution_count": 37,
   "metadata": {
    "collapsed": true
   },
   "outputs": [],
   "source": [
    "import numpy as np"
   ]
  },
  {
   "cell_type": "code",
   "execution_count": 38,
   "metadata": {},
   "outputs": [
    {
     "data": {
      "text/plain": [
       "((4, 2), (4, 1))"
      ]
     },
     "execution_count": 38,
     "metadata": {},
     "output_type": "execute_result"
    }
   ],
   "source": [
    "x = np.array([[0,0],[0,1],[1,0],[1,1]])\n",
    "y = np.array([[0,1,1,0]]).T\n",
    "\n",
    "x.shape,y.shape"
   ]
  },
  {
   "cell_type": "code",
   "execution_count": 39,
   "metadata": {
    "collapsed": true
   },
   "outputs": [],
   "source": [
    "def sig(z):\n",
    "    return 1/(1+np.exp(-z))"
   ]
  },
  {
   "cell_type": "code",
   "execution_count": 40,
   "metadata": {
    "collapsed": true
   },
   "outputs": [],
   "source": [
    "def dsig(z):\n",
    "    return sig(z)*(1+sig(z))"
   ]
  },
  {
   "cell_type": "code",
   "execution_count": 46,
   "metadata": {
    "collapsed": true
   },
   "outputs": [],
   "source": [
    "wh = 2*np.random.random((2,2))-1\n",
    "bh = 2*np.random.random((1,1))-1\n",
    "wo = 2*np.random.random((2,1))-1\n",
    "bo = 2*np.random.random((1,1))-1\n",
    "lr = 0.1"
   ]
  },
  {
   "cell_type": "code",
   "execution_count": 48,
   "metadata": {},
   "outputs": [
    {
     "name": "stderr",
     "output_type": "stream",
     "text": [
      "/home/shiv/anaconda3/lib/python3.6/site-packages/ipykernel_launcher.py:2: RuntimeWarning: overflow encountered in exp\n",
      "  \n"
     ]
    },
    {
     "data": {
      "text/plain": [
       "array([[ 0.4217053 ],\n",
       "       [ 0.51922217],\n",
       "       [ 0.51922217],\n",
       "       [ 0.56789756]])"
      ]
     },
     "execution_count": 48,
     "metadata": {},
     "output_type": "execute_result"
    }
   ],
   "source": [
    "for iter in range(100000):\n",
    "    outputi = x\n",
    "    inputhidden = np.dot(outputi,wh)+bh\n",
    "    outputh = sig(inputhidden)\n",
    "    inputfinal = np.dot(outputh,wo)+bo\n",
    "    output = sig(inputfinal)\n",
    "\n",
    "    first_term_output_layer = output-y\n",
    "    second_term_output_layer = dsig(inputfinal)\n",
    "    ft_output_layer = first_term_output_layer*second_term_output_layer\n",
    "\n",
    "    first_term_hidden_layer = np.dot(ft_output_layer,wo.T)\n",
    "    second_term_hidden_layer = dsig(inputhidden)\n",
    "    ft_hidden_layer = first_term_hidden_layer*second_term_hidden_layer\n",
    "\n",
    "    changes_output_layer = np.dot(outputh.T,ft_output_layer)\n",
    "    changes_output_bias = np.sum(ft_output_layer,axis=0,keepdims=True)\n",
    "\n",
    "    changes_hidden_layer = np.dot(outputi.T,ft_hidden_layer)\n",
    "    changes_hidden_bias = np.sum(ft_hidden_layer,axis=0,keepdims=True)\n",
    "\n",
    "    wo = wo - lr*changes_output_layer\n",
    "    wh = wh - lr*changes_hidden_layer\n",
    "    bo = bo - lr*changes_output_bias\n",
    "    bh = bh - lr*changes_hidden_bias\n",
    "\n",
    "\n",
    "outputi = x\n",
    "inputhidden = np.dot(outputi,wh)+bh\n",
    "outputh = sig(inputhidden)\n",
    "inputfinal = np.dot(outputh,wo)+bo\n",
    "output = sig(inputfinal)\n",
    "\n",
    "output"
   ]
  },
  {
   "cell_type": "code",
   "execution_count": null,
   "metadata": {
    "collapsed": true
   },
   "outputs": [],
   "source": []
  },
  {
   "cell_type": "code",
   "execution_count": null,
   "metadata": {
    "collapsed": true
   },
   "outputs": [],
   "source": []
  }
 ],
 "metadata": {
  "kernelspec": {
   "display_name": "Python 3",
   "language": "python",
   "name": "python3"
  },
  "language_info": {
   "codemirror_mode": {
    "name": "ipython",
    "version": 3
   },
   "file_extension": ".py",
   "mimetype": "text/x-python",
   "name": "python",
   "nbconvert_exporter": "python",
   "pygments_lexer": "ipython3",
   "version": "3.6.3"
  }
 },
 "nbformat": 4,
 "nbformat_minor": 2
}
