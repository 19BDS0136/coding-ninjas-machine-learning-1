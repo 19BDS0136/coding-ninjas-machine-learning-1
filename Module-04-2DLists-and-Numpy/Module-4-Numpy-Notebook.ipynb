{
  "nbformat": 4,
  "nbformat_minor": 0,
  "metadata": {
    "colab": {
      "name": "Module-4-Numpy.ipynb",
      "provenance": []
    },
    "kernelspec": {
      "name": "python3",
      "display_name": "Python 3"
    }
  },
  "cells": [
    {
      "cell_type": "code",
      "metadata": {
        "id": "hlwHmsokOe0U",
        "colab_type": "code",
        "colab": {}
      },
      "source": [
        "import numpy as np"
      ],
      "execution_count": 2,
      "outputs": []
    },
    {
      "cell_type": "code",
      "metadata": {
        "id": "8sCCCn7DOiJU",
        "colab_type": "code",
        "colab": {
          "base_uri": "https://localhost:8080/",
          "height": 34
        },
        "outputId": "a5b74604-b0b9-4f2a-c539-91b86d8955ca"
      },
      "source": [
        "l1 = [1,2,3]\n",
        "np.array(l1)"
      ],
      "execution_count": 4,
      "outputs": [
        {
          "output_type": "execute_result",
          "data": {
            "text/plain": [
              "array([1, 2, 3])"
            ]
          },
          "metadata": {
            "tags": []
          },
          "execution_count": 4
        }
      ]
    },
    {
      "cell_type": "code",
      "metadata": {
        "id": "KQ8bVeBvO3Sx",
        "colab_type": "code",
        "colab": {
          "base_uri": "https://localhost:8080/",
          "height": 34
        },
        "outputId": "d1b19075-8b5d-4aef-cdba-754e081407e7"
      },
      "source": [
        "#numpy converts all elements to same datatype\n",
        "l2 = [1,2,\"arr\"]\n",
        "np.array(l2)"
      ],
      "execution_count": 6,
      "outputs": [
        {
          "output_type": "execute_result",
          "data": {
            "text/plain": [
              "array(['1', '2', 'arr'], dtype='<U21')"
            ]
          },
          "metadata": {
            "tags": []
          },
          "execution_count": 6
        }
      ]
    },
    {
      "cell_type": "code",
      "metadata": {
        "id": "0XIN-p6BO9Km",
        "colab_type": "code",
        "colab": {
          "base_uri": "https://localhost:8080/",
          "height": 51
        },
        "outputId": "c41e335a-58b6-4b5e-ab05-d782671b5b75"
      },
      "source": [
        "a = np.zeros(10)\n",
        "print(a.dtype)\n",
        "\n",
        "a = np.zeros(10, int)\n",
        "print(a.dtype)"
      ],
      "execution_count": 8,
      "outputs": [
        {
          "output_type": "stream",
          "text": [
            "float64\n",
            "int64\n"
          ],
          "name": "stdout"
        }
      ]
    },
    {
      "cell_type": "code",
      "metadata": {
        "id": "XGFA9NffPJ1I",
        "colab_type": "code",
        "colab": {
          "base_uri": "https://localhost:8080/",
          "height": 34
        },
        "outputId": "94ca03d2-33d1-4685-8d64-06e10f852e9f"
      },
      "source": [
        "#Creating multi dimensional numpy arrays\n",
        "b = np.zeros((2,3,2))\n",
        "print(b.shape)"
      ],
      "execution_count": 10,
      "outputs": [
        {
          "output_type": "stream",
          "text": [
            "(2, 3, 2)\n"
          ],
          "name": "stdout"
        }
      ]
    },
    {
      "cell_type": "code",
      "metadata": {
        "id": "_ZTSDNzCPUzG",
        "colab_type": "code",
        "colab": {}
      },
      "source": [
        "a = np.array([1,2,3])\n",
        "b = np.array([4,5,6])"
      ],
      "execution_count": 12,
      "outputs": []
    },
    {
      "cell_type": "code",
      "metadata": {
        "id": "pl6jqpf7PpLM",
        "colab_type": "code",
        "colab": {
          "base_uri": "https://localhost:8080/",
          "height": 136
        },
        "outputId": "6901afca-997d-49e3-82a6-26077cf79f47"
      },
      "source": [
        "print(a*b)\n",
        "print(a.dot(b))\n",
        "print(a.shape)\n",
        "print(b.shape)\n",
        "print(a.T)\n",
        "print(a.T.shape)\n",
        "print(np.matmul(a,b))"
      ],
      "execution_count": 23,
      "outputs": [
        {
          "output_type": "stream",
          "text": [
            "[ 4 10 18]\n",
            "32\n",
            "(3,)\n",
            "(3,)\n",
            "[1 2 3]\n",
            "(3,)\n",
            "32\n"
          ],
          "name": "stdout"
        }
      ]
    },
    {
      "cell_type": "markdown",
      "metadata": {
        "id": "ThF73shXR4Og",
        "colab_type": "text"
      },
      "source": [
        "From the documentation:\n",
        "\n",
        "matmul differs from dot in two important ways.\n",
        "\n",
        "Multiplication by scalars is not allowed.\n",
        "Stacks of matrices are broadcast together as if the matrices were elements.\n",
        "The last point makes it clear that dot and matmul methods behave differently when passed 3D (or higher dimensional) arrays. Quoting from the documentation some more:\n",
        "\n",
        "For matmul:\n",
        "\n",
        "If either argument is N-D, N > 2, it is treated as a stack of matrices residing in the last two indexes and broadcast accordingly.\n",
        "\n",
        "For np.dot:\n",
        "\n",
        "For 2-D arrays it is equivalent to matrix multiplication, and for 1-D arrays to inner product of vectors (without complex conjugation). For N dimensions it is a sum product over the last axis of a and the second-to-last of b"
      ]
    },
    {
      "cell_type": "code",
      "metadata": {
        "id": "tbYof3eUPrXA",
        "colab_type": "code",
        "colab": {
          "base_uri": "https://localhost:8080/",
          "height": 153
        },
        "outputId": "d8aba983-66f1-4e6a-9af1-b48646507e68"
      },
      "source": [
        "#matrix multiplication\n",
        "c = np.array([[1,3],[1,2],[0,1]])\n",
        "r = np.array([[1,0,2],[0,1,2]])\n",
        "\n",
        "print(c.shape)\n",
        "print(r.shape)\n",
        "print(np.matmul(c,r))\n",
        "#print(c*r) -> error, since point-wise operation and dimensions don't match\n",
        "print(np.dot(c,r))"
      ],
      "execution_count": 28,
      "outputs": [
        {
          "output_type": "stream",
          "text": [
            "(3, 2)\n",
            "(2, 3)\n",
            "[[1 3 8]\n",
            " [1 2 6]\n",
            " [0 1 2]]\n",
            "[[1 3 8]\n",
            " [1 2 6]\n",
            " [0 1 2]]\n"
          ],
          "name": "stdout"
        }
      ]
    },
    {
      "cell_type": "code",
      "metadata": {
        "id": "AQR5GslPQpDq",
        "colab_type": "code",
        "colab": {}
      },
      "source": [
        ""
      ],
      "execution_count": null,
      "outputs": []
    }
  ]
}