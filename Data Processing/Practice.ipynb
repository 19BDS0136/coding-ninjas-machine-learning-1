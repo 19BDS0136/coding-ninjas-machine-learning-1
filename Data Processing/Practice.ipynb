{
 "cells": [
  {
   "cell_type": "code",
   "execution_count": 17,
   "metadata": {},
   "outputs": [
    {
     "name": "stdout",
     "output_type": "stream",
     "text": [
      "10 20\n"
     ]
    },
    {
     "data": {
      "text/plain": [
       "complex"
      ]
     },
     "execution_count": 17,
     "metadata": {},
     "output_type": "execute_result"
    }
   ],
   "source": [
    "print(10,end = \" \")\n",
    "print(20)\n",
    "com = 2+3j #python allows for complex numbers as a type too\n",
    "type(com)"
   ]
  },
  {
   "cell_type": "code",
   "execution_count": 3,
   "metadata": {},
   "outputs": [
    {
     "name": "stdout",
     "output_type": "stream",
     "text": [
      "Please enter a number:10\n",
      "10\n"
     ]
    }
   ],
   "source": [
    "a = int(input(\"Please enter a number:\"))\n",
    "print(a)"
   ]
  },
  {
   "cell_type": "code",
   "execution_count": 16,
   "metadata": {},
   "outputs": [
    {
     "data": {
      "text/plain": [
       "['abc', 'def']"
      ]
     },
     "execution_count": 16,
     "metadata": {},
     "output_type": "execute_result"
    }
   ],
   "source": [
    "str = \"Hello world\"\n",
    "str[0]\n",
    "str+=\" to this place\"\n",
    "\n",
    "str.lower()\n",
    "str.upper()\n",
    "str[1:4]\n",
    "\n",
    "str1 = \" abc def\"\n",
    "str1 = str1.strip()\n",
    "str2 = str1.split(\" \")\n",
    "str2"
   ]
  },
  {
   "cell_type": "code",
   "execution_count": 21,
   "metadata": {},
   "outputs": [
    {
     "data": {
      "text/plain": [
       "'str'"
      ]
     },
     "execution_count": 21,
     "metadata": {},
     "output_type": "execute_result"
    }
   ],
   "source": [
    "##Tuple\n",
    "\n",
    "tup = (\"str\",1,(\"str2\",1))\n",
    "tup[0]"
   ]
  },
  {
   "cell_type": "code",
   "execution_count": 24,
   "metadata": {},
   "outputs": [
    {
     "name": "stdout",
     "output_type": "stream",
     "text": [
      "20\n",
      "<class 'tuple'>\n"
     ]
    }
   ],
   "source": [
    "def sum(a,b,*more):\n",
    "    print(more[0])\n",
    "    print(type(more))\n",
    "    \n",
    "sum(10,15,20,12,14)"
   ]
  },
  {
   "cell_type": "code",
   "execution_count": 43,
   "metadata": {},
   "outputs": [
    {
     "name": "stdout",
     "output_type": "stream",
     "text": [
      "1 2 3 4\n",
      "[1, 1, 1, 1]\n",
      "<class 'int'>\n"
     ]
    }
   ],
   "source": [
    "##Lists\n",
    "\n",
    "l1 = [i for i in range(1,10)]\n",
    "l1\n",
    "a = 1\n",
    "l2 = [a for x in input().strip().split(\" \")]\n",
    "print(l2)\n",
    "print(type(l2[0]))"
   ]
  },
  {
   "cell_type": "code",
   "execution_count": 42,
   "metadata": {},
   "outputs": [
    {
     "name": "stdout",
     "output_type": "stream",
     "text": [
      "1 2 3 4\n",
      "[1, 2, 3, 4]\n",
      "1\n"
     ]
    }
   ],
   "source": [
    "l2 = input().strip().split(\" \")\n",
    "l3 = [int(x) for x in l2]\n",
    "print(l3)\n",
    "print(l3[0])"
   ]
  },
  {
   "cell_type": "code",
   "execution_count": 44,
   "metadata": {
    "collapsed": true
   },
   "outputs": [],
   "source": [
    "#2D lists"
   ]
  },
  {
   "cell_type": "code",
   "execution_count": 51,
   "metadata": {
    "collapsed": true
   },
   "outputs": [],
   "source": [
    "##Modules\n",
    "\n",
    "import math as m\n",
    "import numpy as np\n",
    "import pandas as p\n",
    "import matplotlib.pyplot as plt"
   ]
  },
  {
   "cell_type": "code",
   "execution_count": 49,
   "metadata": {},
   "outputs": [
    {
     "name": "stdout",
     "output_type": "stream",
     "text": [
      "2.0\n"
     ]
    }
   ],
   "source": [
    "print(m.sqrt(4))"
   ]
  },
  {
   "cell_type": "code",
   "execution_count": 67,
   "metadata": {},
   "outputs": [
    {
     "name": "stdout",
     "output_type": "stream",
     "text": [
      "[ 0.  0.  0.  0.  0.  0.  0.  0.  0.  0.]\n",
      "[ 1.  1.  1.  1.  1.  1.  1.  1.  1.  1.]\n",
      "[1 2 3]\n",
      "[1 2 3 4 5 6 7 8 9]\n"
     ]
    }
   ],
   "source": [
    "#Numpy\n",
    "\n",
    "l1 = [1,2,3,4]\n",
    "l1 = np.array(l1)\n",
    "\n",
    "l2 = np.zeros(10)\n",
    "print(l2)\n",
    "\n",
    "l3 = np.ones(10)\n",
    "print(l3)\n",
    "\n",
    "l4 = np.array([1,2,3])\n",
    "print(l4)\n",
    "\n",
    "l5 = np.arange(1,10)\n",
    "print(l5)\n"
   ]
  }
 ],
 "metadata": {
  "kernelspec": {
   "display_name": "Python 3",
   "language": "python",
   "name": "python3"
  },
  "language_info": {
   "codemirror_mode": {
    "name": "ipython",
    "version": 3
   },
   "file_extension": ".py",
   "mimetype": "text/x-python",
   "name": "python",
   "nbconvert_exporter": "python",
   "pygments_lexer": "ipython3",
   "version": "3.6.3"
  }
 },
 "nbformat": 4,
 "nbformat_minor": 2
}
