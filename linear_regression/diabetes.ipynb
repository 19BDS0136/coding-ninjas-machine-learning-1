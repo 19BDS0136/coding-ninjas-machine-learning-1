{
 "cells": [
  {
   "cell_type": "code",
   "execution_count": 1,
   "metadata": {
    "collapsed": true
   },
   "outputs": [],
   "source": [
    "import numpy as np\n",
    "import pandas as pd\n",
    "import matplotlib.pyplot as plt"
   ]
  },
  {
   "cell_type": "code",
   "execution_count": 3,
   "metadata": {},
   "outputs": [],
   "source": [
    "data = np.genfromtxt(\"train.csv\",delimiter=\",\")"
   ]
  },
  {
   "cell_type": "code",
   "execution_count": 7,
   "metadata": {},
   "outputs": [],
   "source": [
    "x = data[:,0:10]\n",
    "y = data[:,10]"
   ]
  },
  {
   "cell_type": "code",
   "execution_count": 8,
   "metadata": {},
   "outputs": [
    {
     "name": "stdout",
     "output_type": "stream",
     "text": [
      "(331, 10)\n",
      "(331,)\n"
     ]
    }
   ],
   "source": [
    "print(x.shape)\n",
    "print(y.shape)"
   ]
  },
  {
   "cell_type": "code",
   "execution_count": 9,
   "metadata": {
    "collapsed": true
   },
   "outputs": [],
   "source": [
    "from sklearn import model_selection"
   ]
  },
  {
   "cell_type": "code",
   "execution_count": 10,
   "metadata": {
    "collapsed": true
   },
   "outputs": [],
   "source": [
    "xTrain,xTest,yTrain,yTest = model_selection.train_test_split(x,y)"
   ]
  },
  {
   "cell_type": "code",
   "execution_count": 14,
   "metadata": {},
   "outputs": [
    {
     "name": "stdout",
     "output_type": "stream",
     "text": [
      "(248, 10)\n",
      "(248,)\n"
     ]
    }
   ],
   "source": [
    "print(xTrain.shape)\n",
    "print(yTrain.shape)"
   ]
  },
  {
   "cell_type": "code",
   "execution_count": 15,
   "metadata": {
    "collapsed": true
   },
   "outputs": [],
   "source": [
    "from sklearn.linear_model import LinearRegression"
   ]
  },
  {
   "cell_type": "code",
   "execution_count": 16,
   "metadata": {
    "collapsed": true
   },
   "outputs": [],
   "source": [
    "alg1 = LinearRegression()"
   ]
  },
  {
   "cell_type": "code",
   "execution_count": 17,
   "metadata": {},
   "outputs": [
    {
     "data": {
      "text/plain": [
       "LinearRegression(copy_X=True, fit_intercept=True, n_jobs=1, normalize=False)"
      ]
     },
     "execution_count": 17,
     "metadata": {},
     "output_type": "execute_result"
    }
   ],
   "source": [
    "alg1.fit(xTrain,yTrain)"
   ]
  },
  {
   "cell_type": "code",
   "execution_count": 18,
   "metadata": {},
   "outputs": [
    {
     "data": {
      "text/plain": [
       "0.34065291824446198"
      ]
     },
     "execution_count": 18,
     "metadata": {},
     "output_type": "execute_result"
    }
   ],
   "source": [
    "alg1.score(xTest,yTest)"
   ]
  },
  {
   "cell_type": "code",
   "execution_count": 20,
   "metadata": {},
   "outputs": [],
   "source": [
    "x_test = np.genfromtxt(\"xTest.csv\",delimiter=\",\")"
   ]
  },
  {
   "cell_type": "code",
   "execution_count": 29,
   "metadata": {
    "collapsed": true
   },
   "outputs": [],
   "source": [
    "y_pre = alg1.predict(x_test)"
   ]
  },
  {
   "cell_type": "code",
   "execution_count": 22,
   "metadata": {
    "collapsed": true
   },
   "outputs": [],
   "source": [
    "np.savetxt(\"pred.csv\",y_pre)"
   ]
  },
  {
   "cell_type": "code",
   "execution_count": 48,
   "metadata": {},
   "outputs": [],
   "source": [
    "y_pre2=np.zeros(111)\n",
    "for i in range(111):\n",
    "    y_pre2[i]=(\"{:.5f}\".format(y_pre[i]))"
   ]
  },
  {
   "cell_type": "code",
   "execution_count": 49,
   "metadata": {},
   "outputs": [
    {
     "data": {
      "text/plain": [
       "array([ 102.90143,  106.81572,  166.6326 ,   73.69953,   56.27675,\n",
       "        103.08029,  135.87964,   25.76674,  116.78097,  165.42463,\n",
       "        130.99097,   91.94941,  142.04523,  151.57587,  176.77153,\n",
       "        179.34493,  106.36094,  107.83892,   94.40471,  167.22498,\n",
       "        175.38228,  106.29454,  257.30755,  147.3049 ,  217.78969,\n",
       "        143.74402,  217.94671,   75.89174,  190.57151,  215.91406,\n",
       "        222.11922,  167.51871,  118.96651,  172.96626,   81.70739,\n",
       "         63.09553,  117.33252,  162.05956,  154.68082,  188.56812,\n",
       "        117.41906,  151.25745,   91.1966 ,  111.52578,  141.05404,\n",
       "        150.20029,   77.08581,   73.26113,  126.52409,  263.46033,\n",
       "        215.14633,  224.93637,  166.75241,  185.40668,  160.39333,\n",
       "        211.69818,  235.77968,  172.14658,  174.14063,  110.97058,\n",
       "        281.74781,   81.2219 ,  286.83984,  118.28333,   65.8676 ,\n",
       "        191.77879,  154.63389,  153.24339,   33.85125,  233.3145 ,\n",
       "        205.86101,   78.96027,  214.50712,  198.70702,  179.45616,\n",
       "        158.93844,  185.40942,  112.31289,  210.49715,  256.47479,\n",
       "        128.89777,  114.20572,  150.83199,  205.44309,  160.96702,\n",
       "        143.97453,  156.40046,  118.58318,  142.80392,  117.74429,\n",
       "        213.58451,  170.75401,  132.28015,   57.79107,  245.93986,\n",
       "        185.49922,  181.57236,   78.31262,  158.48708,  215.9164 ,\n",
       "        108.95838,   77.67456,  132.20088,  247.68564,  153.12792,\n",
       "        125.31303,  231.22166,  243.18934,  199.18786,  173.90584,\n",
       "        159.27034])"
      ]
     },
     "execution_count": 49,
     "metadata": {},
     "output_type": "execute_result"
    }
   ],
   "source": [
    "y_pre2"
   ]
  },
  {
   "cell_type": "code",
   "execution_count": 50,
   "metadata": {},
   "outputs": [],
   "source": [
    "np.savetxt(\"pred1.csv\",y_pre2)"
   ]
  },
  {
   "cell_type": "code",
   "execution_count": null,
   "metadata": {
    "collapsed": true
   },
   "outputs": [],
   "source": []
  }
 ],
 "metadata": {
  "kernelspec": {
   "display_name": "Python 3",
   "language": "python",
   "name": "python3"
  },
  "language_info": {
   "codemirror_mode": {
    "name": "ipython",
    "version": 3
   },
   "file_extension": ".py",
   "mimetype": "text/x-python",
   "name": "python",
   "nbconvert_exporter": "python",
   "pygments_lexer": "ipython3",
   "version": "3.6.3"
  }
 },
 "nbformat": 4,
 "nbformat_minor": 2
}
