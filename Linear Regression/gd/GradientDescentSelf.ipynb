{
 "cells": [
  {
   "cell_type": "code",
   "execution_count": 1,
   "metadata": {
    "collapsed": true
   },
   "outputs": [],
   "source": [
    "import numpy as np"
   ]
  },
  {
   "cell_type": "code",
   "execution_count": 2,
   "metadata": {
    "collapsed": true
   },
   "outputs": [],
   "source": [
    "def cost(data,m,c):\n",
    "    x = data[:,0]\n",
    "    y = data[:,1]\n",
    "    ct = 0\n",
    "    N = len(data)\n",
    "    for i in range(N):\n",
    "        ct +=(1/N)*((y[i]-m*x[i]-c)**2)\n",
    "    return ct"
   ]
  },
  {
   "cell_type": "code",
   "execution_count": 3,
   "metadata": {
    "collapsed": true
   },
   "outputs": [],
   "source": [
    "def sg(data,learnRate,m,c):\n",
    "    x = data[:,0]\n",
    "    y = data[:,1]\n",
    "    slope_m=0\n",
    "    slope_c=0\n",
    "    N = len(data)\n",
    "    for i in range(N):\n",
    "        yi = y[i]\n",
    "        xi = x[i]\n",
    "        slope_m +=(-2/N)*(yi-m*xi-c)*xi\n",
    "        slope_c +=(-2/N)*(yi-m*xi-c)\n",
    "    mNew = m - learnRate*slope_m\n",
    "    cNew = c - learnRate*slope_c\n",
    "    return mNew,cNew"
   ]
  },
  {
   "cell_type": "code",
   "execution_count": null,
   "metadata": {
    "collapsed": true
   },
   "outputs": [],
   "source": [
    "def gdg()"
   ]
  },
  {
   "cell_type": "code",
   "execution_count": 7,
   "metadata": {
    "collapsed": true
   },
   "outputs": [],
   "source": [
    "def gd(data,numIter,learnRate):\n",
    "    m=0\n",
    "    c=0\n",
    "    for i in range(numIter):\n",
    "        m,c = sg(data,learnRate,m,c)\n",
    "        print(cost(data,m,c))\n",
    "    return m,c"
   ]
  },
  {
   "cell_type": "code",
   "execution_count": 8,
   "metadata": {
    "collapsed": true
   },
   "outputs": [],
   "source": [
    "def run():\n",
    "    data = np.loadtxt(\"data.csv\",delimiter=\",\")\n",
    "    numIter = 10\n",
    "    learnRate = 0.0001\n",
    "    m,c = gd(data,numIter,learnRate)\n",
    "    print(m,c)"
   ]
  },
  {
   "cell_type": "code",
   "execution_count": 9,
   "metadata": {},
   "outputs": [
    {
     "name": "stdout",
     "output_type": "stream",
     "text": [
      "1484.58655741\n",
      "457.854257574\n",
      "199.509985726\n",
      "134.505910582\n",
      "118.149693422\n",
      "114.03414906\n",
      "112.998577317\n",
      "112.737981876\n",
      "112.672384359\n",
      "112.655851815\n",
      "1.47741737555 0.0296393478747\n"
     ]
    }
   ],
   "source": [
    "run()"
   ]
  },
  {
   "cell_type": "code",
   "execution_count": null,
   "metadata": {},
   "outputs": [],
   "source": []
  },
  {
   "cell_type": "code",
   "execution_count": null,
   "metadata": {
    "collapsed": true
   },
   "outputs": [],
   "source": []
  }
 ],
 "metadata": {
  "kernelspec": {
   "display_name": "Python 3",
   "language": "python",
   "name": "python3"
  },
  "language_info": {
   "codemirror_mode": {
    "name": "ipython",
    "version": 3
   },
   "file_extension": ".py",
   "mimetype": "text/x-python",
   "name": "python",
   "nbconvert_exporter": "python",
   "pygments_lexer": "ipython3",
   "version": "3.6.3"
  }
 },
 "nbformat": 4,
 "nbformat_minor": 2
}
