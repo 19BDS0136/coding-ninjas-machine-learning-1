{
 "cells": [
  {
   "cell_type": "code",
   "execution_count": 1,
   "metadata": {
    "collapsed": true
   },
   "outputs": [],
   "source": [
    "import numpy as np\n",
    "import pandas as pd\n",
    "from sklearn import model_selection"
   ]
  },
  {
   "cell_type": "code",
   "execution_count": 2,
   "metadata": {},
   "outputs": [
    {
     "data": {
      "text/plain": [
       "(7176, 5)"
      ]
     },
     "execution_count": 2,
     "metadata": {},
     "output_type": "execute_result"
    }
   ],
   "source": [
    "data = np.genfromtxt(\"ccppxyTrain.csv\",delimiter=\",\")\n",
    "x_test = np.genfromtxt(\"ccppxTest.csv\",delimiter=\",\")"
   ]
  },
  {
   "cell_type": "code",
   "execution_count": 5,
   "metadata": {},
   "outputs": [],
   "source": [
    "x = data[:,0:4]\n",
    "y = data[:,4]"
   ]
  },
  {
   "cell_type": "code",
   "execution_count": 6,
   "metadata": {
    "collapsed": true
   },
   "outputs": [],
   "source": [
    "df = pd.DataFrame(x)\n",
    "dfxTest = pd.DataFrame(x_test)"
   ]
  },
  {
   "cell_type": "code",
   "execution_count": 7,
   "metadata": {
    "collapsed": true
   },
   "outputs": [],
   "source": [
    "df[\"new\"] = 1\n",
    "dfxTest[\"new\"] = 1"
   ]
  },
  {
   "cell_type": "code",
   "execution_count": 8,
   "metadata": {},
   "outputs": [
    {
     "data": {
      "text/plain": [
       "(2392, 5)"
      ]
     },
     "execution_count": 8,
     "metadata": {},
     "output_type": "execute_result"
    }
   ],
   "source": [
    "x = df.values\n",
    "x_test = dfxTest.values\n",
    "x_test.shape"
   ]
  },
  {
   "cell_type": "code",
   "execution_count": 9,
   "metadata": {
    "collapsed": true
   },
   "outputs": [],
   "source": [
    "def step(x,y,learnRate,m):\n",
    "    N = len(x)\n",
    "    M = len(m)\n",
    "    for i in range(M):\n",
    "        slope_m = 0\n",
    "        for j in range(N):\n",
    "            slope_m +=(-2/N)*(y[j]-(m*x[j]).sum())*x[j][i]\n",
    "        m[i] = m[i]-(learnRate*slope_m)\n",
    "    return m"
   ]
  },
  {
   "cell_type": "code",
   "execution_count": 10,
   "metadata": {
    "collapsed": true
   },
   "outputs": [],
   "source": [
    "def cost(x,y,m):\n",
    "    N = len(x)\n",
    "    ct = 0\n",
    "    for i in range(N):\n",
    "        ct+=(1/N)*((y[i]-((m*x[i]).sum()))**2)\n",
    "    return ct"
   ]
  },
  {
   "cell_type": "code",
   "execution_count": 11,
   "metadata": {
    "collapsed": true
   },
   "outputs": [],
   "source": [
    "def gd(x,y,numIter,learnRate):\n",
    "    m = np.zeros(x.shape[1])\n",
    "    ct = cost(x,y,m)\n",
    "    for i in range(numIter):\n",
    "        m  = step(x,y,learnRate,m)\n",
    "        cNew = cost(x,y,m)\n",
    "        print(cNew)\n",
    "    return m"
   ]
  },
  {
   "cell_type": "code",
   "execution_count": 20,
   "metadata": {
    "collapsed": true
   },
   "outputs": [],
   "source": [
    "def run(x,y):\n",
    "    numIter = 10\n",
    "    learnRate = 0.0001\n",
    "    m = gd(x,y,numIter,learnRate)\n",
    "    dfm = pd.DataFrame(m)\n",
    "    return m"
   ]
  },
  {
   "cell_type": "code",
   "execution_count": 17,
   "metadata": {
    "collapsed": true
   },
   "outputs": [],
   "source": [
    "def fit(x,y):\n",
    "    m = run(x,y)\n",
    "    return m"
   ]
  },
  {
   "cell_type": "code",
   "execution_count": 18,
   "metadata": {
    "collapsed": true
   },
   "outputs": [],
   "source": [
    "def pre(x,m):\n",
    "    N = len(x)\n",
    "    yPre = np.zeros(N)\n",
    "    for i in range(N):\n",
    "        yPre[i] = (x[i]*m).sum()\n",
    "    return yPre"
   ]
  },
  {
   "cell_type": "code",
   "execution_count": 21,
   "metadata": {},
   "outputs": [
    {
     "name": "stdout",
     "output_type": "stream",
     "text": [
      "66810870.7006\n",
      "5105769858.97\n",
      "313932985502.0\n",
      "1.86873353973e+13\n",
      "1.10665096007e+15\n",
      "6.54800080098e+16\n",
      "3.87388757257e+18\n",
      "2.29179349084e+20\n",
      "1.35582092852e+22\n",
      "8.02100742627e+23\n"
     ]
    }
   ],
   "source": [
    "m = fit(x,y)\n",
    "yPre = pre(x_test,m)"
   ]
  },
  {
   "cell_type": "code",
   "execution_count": null,
   "metadata": {
    "collapsed": true
   },
   "outputs": [],
   "source": []
  }
 ],
 "metadata": {
  "kernelspec": {
   "display_name": "Python 3",
   "language": "python",
   "name": "python3"
  },
  "language_info": {
   "codemirror_mode": {
    "name": "ipython",
    "version": 3
   },
   "file_extension": ".py",
   "mimetype": "text/x-python",
   "name": "python",
   "nbconvert_exporter": "python",
   "pygments_lexer": "ipython3",
   "version": "3.6.3"
  }
 },
 "nbformat": 4,
 "nbformat_minor": 2
}
