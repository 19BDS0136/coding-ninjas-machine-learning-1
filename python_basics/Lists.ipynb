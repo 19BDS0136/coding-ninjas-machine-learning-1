{
 "cells": [
  {
   "cell_type": "code",
   "execution_count": 14,
   "metadata": {},
   "outputs": [
    {
     "name": "stdout",
     "output_type": "stream",
     "text": [
      "<class 'list'>\n",
      "[1, 2, 3]\n",
      "2\n",
      "[]\n",
      "[1, 2, 3]\n",
      "[1, 2, 3]\n"
     ]
    },
    {
     "data": {
      "text/plain": [
       "[2, 3]"
      ]
     },
     "execution_count": 14,
     "metadata": {},
     "output_type": "execute_result"
    }
   ],
   "source": [
    "#creating lists\n",
    "#lists in python is not supposed to have same type of data\n",
    "#lists follow up with the general indexing known in python\n",
    "#slicing can also be done with lists\n",
    "#length of list can be found using len function by the use of len(a) \n",
    "a=[1,2,3]\n",
    "print(type(a))\n",
    "print(a)\n",
    "print(a[1])\n",
    "\n",
    "a1 = list()#empty list\n",
    "print(a1)\n",
    "\n",
    "a2 = list([1,2,3])\n",
    "a3 = list(a)\n",
    "print(a2)\n",
    "print(a3)\n",
    "\n",
    "a4 = [ i for i in range(10)]\n",
    "a5 = [i*i for i in range(10)]\n",
    "\n",
    "a6 = a[1:3]\n",
    "a6"
   ]
  },
  {
   "cell_type": "code",
   "execution_count": 21,
   "metadata": {},
   "outputs": [
    {
     "name": "stdout",
     "output_type": "stream",
     "text": [
      "1 2 3 2 3 4\n"
     ]
    },
    {
     "data": {
      "text/plain": [
       "[2, 3, 4]"
      ]
     },
     "execution_count": 21,
     "metadata": {},
     "output_type": "execute_result"
    }
   ],
   "source": [
    "len(a)\n",
    "\n",
    "for i in a:\n",
    "    print(i,end=\" \")\n",
    "    \n",
    "#taking input for list can be done by taking string input in  a designated\n",
    "#format and then spliting the string accordingly. \n",
    "\n",
    "str = \"a b c d\"\n",
    "str.split(\" \")\n",
    "\n",
    "#if the input might contain space in the start, then the split might not\n",
    "#work efficiently, therefore we use strip function \n",
    "\n",
    "str = input().strip()\n",
    "list = str.split(\" \")\n",
    "\n",
    "for i in range(len(list)):\n",
    "    list[i]=int(list[i])\n",
    "list\n"
   ]
  },
  {
   "cell_type": "code",
   "execution_count": 23,
   "metadata": {},
   "outputs": [
    {
     "name": "stdout",
     "output_type": "stream",
     "text": [
      "1 2 3 4\n"
     ]
    },
    {
     "data": {
      "text/plain": [
       "[1, 2, 3, 4]"
      ]
     },
     "execution_count": 23,
     "metadata": {},
     "output_type": "execute_result"
    }
   ],
   "source": [
    "#taking integers as input in list\n",
    "l = [int(x) for x in input().strip().split(\" \")]\n",
    "l"
   ]
  },
  {
   "cell_type": "code",
   "execution_count": 34,
   "metadata": {},
   "outputs": [
    {
     "data": {
      "text/plain": [
       "['hello']"
      ]
     },
     "execution_count": 34,
     "metadata": {},
     "output_type": "execute_result"
    }
   ],
   "source": [
    "li =['hello']\n",
    "li"
   ]
  },
  {
   "cell_type": "code",
   "execution_count": 44,
   "metadata": {},
   "outputs": [
    {
     "data": {
      "text/plain": [
       "[2, 4, 1, 23, 'ac']"
      ]
     },
     "execution_count": 44,
     "metadata": {},
     "output_type": "execute_result"
    }
   ],
   "source": [
    "#adding elements in a list\n",
    "l = [1, 'ac',3]\n",
    "\n",
    "l.append(2)#append adds element to the end of the list\n",
    "l.insert(1,23)#inserts at the mentioned position and right shifts the \n",
    "#right elements to it\n",
    "l2 = [2,3,4]\n",
    "l2.extend(l)#extends list 1 with list2(in brackets)\n",
    "\n",
    "l2.pop()#removes last element\n",
    "l2.pop(1)#removes the provided element from the list\n",
    "l2.remove(3)#removing a particular element\n",
    "            #will find the first occurrence of 3 and remove it\n",
    "l2"
   ]
  },
  {
   "cell_type": "code",
   "execution_count": 16,
   "metadata": {},
   "outputs": [
    {
     "name": "stdout",
     "output_type": "stream",
     "text": [
      "4\n",
      "[3, 3, 2, 2, 1, 1]\n",
      "3\n"
     ]
    }
   ],
   "source": [
    "l3 = [1,2,3]\n",
    "l3+l3#addition of list with int is not okay\n",
    "l4=l3*2#multiplication of list with int is okay\n",
    "l4.sort()\n",
    "count = l4.count(3)#count function returns the frequency of the element\n",
    "count\n",
    "print(l4.index(3))#returns index of the first occurence of the number\n",
    "l4.reverse()#reverses the list \n",
    "print(l4)\n",
    "7 in l4\n",
    "print(max(l4))"
   ]
  },
  {
   "cell_type": "code",
   "execution_count": 7,
   "metadata": {},
   "outputs": [
    {
     "name": "stdout",
     "output_type": "stream",
     "text": [
      "[1, 2, 3, 6, 7, 8]\n"
     ]
    }
   ],
   "source": [
    "#BubbleSort\n",
    "    \n",
    "l = [3,1,7,2,6,8]\n",
    "\n",
    "for i in range(len(l)):\n",
    "    for j in range(len(l)-i-1):\n",
    "        if l[j]>l[j+1]:\n",
    "            temp=l[j]\n",
    "            l[j]=l[j+1]\n",
    "            l[j+1]=temp\n",
    "            \n",
    "print(l)"
   ]
  },
  {
   "cell_type": "code",
   "execution_count": 18,
   "metadata": {},
   "outputs": [
    {
     "name": "stdout",
     "output_type": "stream",
     "text": [
      "5\n",
      "8 2 1 5 4\n",
      "[1, 2, 4, 5, 8]\n"
     ]
    }
   ],
   "source": [
    "import sys\n",
    "#SelectionSort\n",
    "\n",
    "n=int(input())\n",
    "\n",
    "l = [int(x) for x in input().strip().split(\" \")]\n",
    "min=sys.maxsize\n",
    "minIndex=-1\n",
    "for i in range(n):\n",
    "    min=sys.maxsize\n",
    "    for j in range(i,n):\n",
    "        if l[j]<min:\n",
    "            min=l[j]\n",
    "            minIndex=j\n",
    "    temp=l[i]\n",
    "    l[i]=l[minIndex]\n",
    "    l[minIndex]=temp\n",
    "print(l) "
   ]
  },
  {
   "cell_type": "code",
   "execution_count": 41,
   "metadata": {},
   "outputs": [
    {
     "name": "stdout",
     "output_type": "stream",
     "text": [
      "7\n",
      "-7 1 5 2 -4 3 0\n",
      "[-7, -6, -1, 1, -3, 0, 0]\n",
      "[0, 3, -1, 1, 6, 7, 0]\n",
      "3\n"
     ]
    }
   ],
   "source": [
    "#Array Equilibrium Index\n",
    "\n",
    "n = int(input())\n",
    "\n",
    "l = [int(i) for i in input().strip().split(\" \")]\n",
    "\n",
    "left = list()\n",
    "right = list()\n",
    "left.append(l[0])\n",
    "right.append(l[-1])\n",
    "\n",
    "for i in range(1,n):\n",
    "    left.append(left[i-1]+l[i])\n",
    "j=1\n",
    "for i in range(n-2,0,-1):\n",
    "    right.append(right[j-1]+l[i])\n",
    "    j+=1\n",
    "right.append(right[j-1]+l[0])\n",
    "print(left)\n",
    "print(right)\n",
    "j=n-1\n",
    "flag=0\n",
    "for i in range(n):\n",
    "    if left[i]==right[j]:\n",
    "        print(i)\n",
    "        flag=1\n",
    "        break\n",
    "    else:\n",
    "        j=j-1\n",
    "if flag==0:\n",
    "    print(-1)"
   ]
  },
  {
   "cell_type": "code",
   "execution_count": 49,
   "metadata": {},
   "outputs": [
    {
     "name": "stdout",
     "output_type": "stream",
     "text": [
      "6\n",
      "3 12 34 2 0 -1\n",
      "34 2 0 -1\n"
     ]
    }
   ],
   "source": [
    "#Leaders in an array\n",
    "\n",
    "n = int(input())\n",
    "\n",
    "ilist = [int(i) for i in input().strip().split(\" \")]\n",
    "l = list()\n",
    "ans = ilist[n-1]\n",
    "l.append(ans)\n",
    "for i in range(n-2,0,-1):\n",
    "    if ans<=ilist[i]:\n",
    "        ans=ilist[i]\n",
    "        l.append(ans)\n",
    "if ans<=ilist[0]:\n",
    "    ans=ilist[0]\n",
    "    l.append(ans)\n",
    "\n",
    "for i in range(len(l)-1,0,-1):\n",
    "    print(l[i],end=\" \")\n",
    "print(l[0])"
   ]
  },
  {
   "cell_type": "code",
   "execution_count": 55,
   "metadata": {},
   "outputs": [
    {
     "name": "stdout",
     "output_type": "stream",
     "text": [
      "Welcome To Coding  NInjas\n",
      "<class 'str'>\n",
      "NInjas  Coding To Welcome\n"
     ]
    }
   ],
   "source": [
    "#Reverse String Word Wise\n",
    "\n",
    "s = input()\n",
    "s1 = s.split(\" \")\n",
    "\n",
    "for i in range(len(s1)-1,0,-1):\n",
    "    print(s1[i],end=\" \")\n",
    "print(s1[0])"
   ]
  },
  {
   "cell_type": "code",
   "execution_count": 1,
   "metadata": {},
   "outputs": [
    {
     "name": "stdout",
     "output_type": "stream",
     "text": [
      "[1, 2, 3]\n",
      "2\n"
     ]
    },
    {
     "data": {
      "text/plain": [
       "[[1, 2, 3], [4, 5, 6]]"
      ]
     },
     "execution_count": 1,
     "metadata": {},
     "output_type": "execute_result"
    }
   ],
   "source": [
    "#2D arrays \n",
    "\n",
    "l = [[1,2,3],[4,5,6]]\n",
    "print(l[0])\n",
    "print(l[0][1])\n",
    "\n",
    "#3D arrays\n",
    "l3d = \n",
    "l"
   ]
  },
  {
   "cell_type": "code",
   "execution_count": 2,
   "metadata": {},
   "outputs": [
    {
     "data": {
      "text/plain": [
       "[[0, 1, 2, 3, 4],\n",
       " [5, 6, 7, 8, 9],\n",
       " [10, 11, 12, 13, 14],\n",
       " [15, 16, 17, 18, 19],\n",
       " [20, 21, 22, 23, 24],\n",
       " [25, 26, 27, 28, 29],\n",
       " [30, 31, 32, 33, 34],\n",
       " [35, 36, 37, 38, 39],\n",
       " [40, 41, 42, 43, 44],\n",
       " [45, 46, 47, 48, 49]]"
      ]
     },
     "execution_count": 2,
     "metadata": {},
     "output_type": "execute_result"
    }
   ],
   "source": [
    "#Creating 2D arrays\n",
    "l1D = [i for i in range(10)]\n",
    "l2D = [[i,i+1,i+2] for i in range(10)]\n",
    "\n",
    "l2D1 = [[j for j in range(5)] for i in range(10)]\n",
    "l2D2 = [[5*i+j for j in range(5)] for i in range(10)]\n",
    "l2D2"
   ]
  },
  {
   "cell_type": "code",
   "execution_count": 13,
   "metadata": {},
   "outputs": [
    {
     "name": "stdout",
     "output_type": "stream",
     "text": [
      "3 3\n",
      "3 6 9 1 4 7 2 8 9 \n"
     ]
    },
    {
     "data": {
      "text/plain": [
       "[[3, 6, 9], [1, 4, 7], [2, 8, 9]]"
      ]
     },
     "execution_count": 13,
     "metadata": {},
     "output_type": "execute_result"
    }
   ],
   "source": [
    "#How to take input in 2D array\n",
    "str  = input().strip().split(\" \")\n",
    "r = int(str[0])\n",
    "c = int(str[1])\n",
    "\n",
    "l = [int(i) for i in input().strip().split(\" \")]\n",
    "\n",
    "l2 = [[l[j*c+i] for i in range(c)] for j in range(r)]\n",
    "\n",
    "out = []\n",
    "for i in range(r):\n",
    "    out.append([])\n",
    "    for j in range(c):\n",
    "        out[i].append(l[c*i+j])\n",
    "out\n"
   ]
  },
  {
   "cell_type": "code",
   "execution_count": 30,
   "metadata": {
    "scrolled": true
   },
   "outputs": [
    {
     "name": "stdout",
     "output_type": "stream",
     "text": [
      "3 1 2 8 4 6 9 7 9 "
     ]
    },
    {
     "data": {
      "text/plain": [
       "[[3, 6, 9], [1, 4, 7], [2, 8, 9]]"
      ]
     },
     "execution_count": 30,
     "metadata": {},
     "output_type": "execute_result"
    }
   ],
   "source": [
    "r = len(out)\n",
    "c = len(out[0])\n",
    "\n",
    "for j in range(c):\n",
    "    if j%2==0:\n",
    "        for i in range(r):\n",
    "            print(out[i][j],end = \" \")\n",
    "    else: \n",
    "        for i in range(-1,-r-1,-1):\n",
    "            print(out[i][j], end = \" \")\n",
    "\n",
    "out"
   ]
  },
  {
   "cell_type": "code",
   "execution_count": 35,
   "metadata": {},
   "outputs": [
    {
     "name": "stdout",
     "output_type": "stream",
     "text": [
      "column 2 25\n"
     ]
    }
   ],
   "source": [
    "out1 = [[],[]]\n",
    "\n",
    "for i in range(r):\n",
    "    out1[0].append(0)\n",
    "    for j in range(c):\n",
    "        out1[0][i]+=out[i][j]\n",
    "\n",
    "for j in range(c):\n",
    "    out1[1].append(0)\n",
    "    for i in range(r):\n",
    "        out1[1][j]+=out[i][j]\n",
    "        \n",
    "maxv = 0\n",
    "maxn = 0\n",
    "maxc = 'R'\n",
    "for i in range(r):\n",
    "    if maxv<out1[0][i]:\n",
    "        maxv = out1[0][i]\n",
    "        maxn = i\n",
    "        maxc = 'R'\n",
    "for j in range(c):\n",
    "    if maxv<out1[1][j]:\n",
    "        maxv = out1[1][j]\n",
    "        maxn = j\n",
    "        maxc = 'C'\n",
    "\n",
    "if maxc=='R':\n",
    "    maxc = 'row'\n",
    "else :\n",
    "    maxc = 'column'\n",
    "print(maxc,maxn,maxv)"
   ]
  },
  {
   "cell_type": "code",
   "execution_count": null,
   "metadata": {
    "collapsed": true
   },
   "outputs": [],
   "source": []
  }
 ],
 "metadata": {
  "kernelspec": {
   "display_name": "Python 3",
   "language": "python",
   "name": "python3"
  },
  "language_info": {
   "codemirror_mode": {
    "name": "ipython",
    "version": 3
   },
   "file_extension": ".py",
   "mimetype": "text/x-python",
   "name": "python",
   "nbconvert_exporter": "python",
   "pygments_lexer": "ipython3",
   "version": "3.6.3"
  }
 },
 "nbformat": 4,
 "nbformat_minor": 2
}
