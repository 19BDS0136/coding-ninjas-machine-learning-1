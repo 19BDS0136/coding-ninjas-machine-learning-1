{
 "cells": [
  {
   "cell_type": "markdown",
   "metadata": {},
   "source": [
    "## Conditions, Loops and Functions\n",
    "\n",
    "File 4\n",
    "\n",
    "This file contains boolean(bool) datatype, operators, conditionals, loops.\n",
    "\n",
    "Keep in mind the requirement for indentation "
   ]
  },
  {
   "cell_type": "code",
   "execution_count": 4,
   "metadata": {},
   "outputs": [
    {
     "name": "stdout",
     "output_type": "stream",
     "text": [
      "<class 'bool'>\n"
     ]
    }
   ],
   "source": [
    "#Boolean DataTyoe\n",
    "a = True\n",
    "b = False\n",
    "\n",
    "print(type(a))"
   ]
  },
  {
   "cell_type": "code",
   "execution_count": 5,
   "metadata": {},
   "outputs": [
    {
     "data": {
      "text/plain": [
       "False"
      ]
     },
     "execution_count": 5,
     "metadata": {},
     "output_type": "execute_result"
    }
   ],
   "source": [
    "#Relational Operators\n",
    "x = 10\n",
    "y = 20 \n",
    "\n",
    "x>y"
   ]
  },
  {
   "cell_type": "code",
   "execution_count": 6,
   "metadata": {},
   "outputs": [
    {
     "data": {
      "text/plain": [
       "False"
      ]
     },
     "execution_count": 6,
     "metadata": {},
     "output_type": "execute_result"
    }
   ],
   "source": [
    "#Logical Opertors\n",
    "x = 10\n",
    "y = 20\n",
    "\n",
    "x>y and x<y"
   ]
  },
  {
   "cell_type": "code",
   "execution_count": 11,
   "metadata": {},
   "outputs": [
    {
     "name": "stdout",
     "output_type": "stream",
     "text": [
      "10\n"
     ]
    }
   ],
   "source": [
    "#ifelse\n",
    "#indentation is very important in python to work with loops, conditions and functions. Jupyter notebook indents\n",
    "#tab in mind whereas python in general requires users to maintain equal number of spaces post code conditionals.\n",
    "\n",
    "x=10\n",
    "y=20\n",
    "z=30\n",
    "if x<y and x<z:\n",
    "    print(x)\n",
    "elif x>y and x<z:\n",
    "    print(z)\n",
    "else:\n",
    "    print(y)"
   ]
  },
  {
   "cell_type": "code",
   "execution_count": 15,
   "metadata": {},
   "outputs": [
    {
     "name": "stdout",
     "output_type": "stream",
     "text": [
      "1\n"
     ]
    }
   ],
   "source": [
    "if False and True or False:\n",
    "    print(0)\n",
    "else: print(1)"
   ]
  },
  {
   "cell_type": "code",
   "execution_count": 3,
   "metadata": {},
   "outputs": [
    {
     "name": "stdout",
     "output_type": "stream",
     "text": [
      "B\n"
     ]
    }
   ],
   "source": [
    "if True or True:\n",
    "    if False and True or False:\n",
    "        print('A')\n",
    "    elif False and False or True and True:\n",
    "        print('B')\n",
    "    else:\n",
    "        print('C')\n",
    "else:\n",
    "     print('D')"
   ]
  },
  {
   "cell_type": "code",
   "execution_count": 5,
   "metadata": {},
   "outputs": [
    {
     "name": "stdout",
     "output_type": "stream",
     "text": [
      "Please enter a valid number:9\n",
      "1\n",
      "2\n",
      "3\n",
      "4\n",
      "5\n",
      "6\n",
      "7\n",
      "8\n",
      "9\n"
     ]
    }
   ],
   "source": [
    "#while loop\n",
    "n = int(input(\"Please enter a valid number:\"))\n",
    "i = 1\n",
    "\n",
    "while i<=n:\n",
    "    print(i)\n",
    "    i=i+1\n"
   ]
  },
  {
   "cell_type": "code",
   "execution_count": 6,
   "metadata": {},
   "outputs": [
    {
     "name": "stdout",
     "output_type": "stream",
     "text": [
      "Please enter a valid number5\n",
      "1 2 3 4 5 "
     ]
    }
   ],
   "source": [
    "#to print numbers in the same line  \n",
    "n= int(input(\"Please enter a valid number\"))\n",
    "i=1\n",
    "\n",
    "while i<=n:\n",
    "    print(i, end = \" \")\n",
    "    i = i+1"
   ]
  },
  {
   "cell_type": "code",
   "execution_count": 8,
   "metadata": {},
   "outputs": [
    {
     "name": "stdout",
     "output_type": "stream",
     "text": [
      "1\n",
      "2\n",
      "3\n",
      "4\n",
      "5\n",
      "6\n",
      "7\n",
      "8\n",
      "9\n"
     ]
    }
   ],
   "source": [
    "#for loop\n",
    "for i in range(1,10):\n",
    "    print(i)"
   ]
  },
  {
   "cell_type": "code",
   "execution_count": 5,
   "metadata": {},
   "outputs": [
    {
     "name": "stdout",
     "output_type": "stream",
     "text": [
      "{0: 's', 1: 't', 2: 'r', 3: 'i', 4: 'n', 5: 'g', 6: 's', 7: 'a', 8: 'r', 9: 'e', 10: 's', 11: 'i', 12: 'm', 13: 'p', 14: 'l', 15: 'e'}\n"
     ]
    }
   ],
   "source": [
    "sample_iter = \"stringsaresimple\"\n",
    "\n",
    "print(dict(enumerate(sample_iter)))"
   ]
  },
  {
   "cell_type": "code",
   "execution_count": 9,
   "metadata": {},
   "outputs": [
    {
     "name": "stdout",
     "output_type": "stream",
     "text": [
      "Please enter a valid number10\n",
      "1\n",
      "2\n",
      "3\n",
      "4\n",
      "5\n",
      "6\n",
      "7\n",
      "8\n",
      "9\n",
      "10\n"
     ]
    }
   ],
   "source": [
    "#range has 3 possible arguments i.e. starting value, ending value and the step\n",
    "n = int(input(\"Please enter a valid number\"))\n",
    "\n",
    "for i in range(1,n+1):\n",
    "    print(i)"
   ]
  },
  {
   "cell_type": "code",
   "execution_count": 10,
   "metadata": {},
   "outputs": [
    {
     "name": "stdout",
     "output_type": "stream",
     "text": [
      "Please enter a valid number:8\n",
      "0\n",
      "1\n",
      "2\n",
      "3\n",
      "4\n",
      "5\n",
      "6\n",
      "7\n",
      "8\n"
     ]
    }
   ],
   "source": [
    "#by default range starts from 0\n",
    "\n",
    "n = int(input(\"Please enter a valid number:\"))\n",
    "\n",
    "for i in range(n+1):\n",
    "    print(i)"
   ]
  },
  {
   "cell_type": "code",
   "execution_count": 11,
   "metadata": {},
   "outputs": [
    {
     "name": "stdout",
     "output_type": "stream",
     "text": [
      "1\n",
      "2\n",
      "3\n",
      "4\n"
     ]
    }
   ],
   "source": [
    "#fast iteration\n",
    "\n",
    "s = \"abcd\"\n",
    "i=1\n",
    "for c in s:\n",
    "    print(i)\n",
    "    i=i+1"
   ]
  },
  {
   "cell_type": "code",
   "execution_count": 12,
   "metadata": {},
   "outputs": [
    {
     "name": "stdout",
     "output_type": "stream",
     "text": [
      "0 1 2 "
     ]
    }
   ],
   "source": [
    " i = 0\n",
    "while i < 3:\n",
    "    print(i, end=\" \")\n",
    "    i += 1"
   ]
  },
  {
   "cell_type": "code",
   "execution_count": 14,
   "metadata": {},
   "outputs": [
    {
     "name": "stdout",
     "output_type": "stream",
     "text": [
      "a b c d "
     ]
    }
   ],
   "source": [
    "x = \"abcd\"\n",
    "\n",
    "for i in x:\n",
    "    print(i , end = \" \")\n",
    "    x.upper()"
   ]
  },
  {
   "cell_type": "code",
   "execution_count": 15,
   "metadata": {},
   "outputs": [
    {
     "name": "stdout",
     "output_type": "stream",
     "text": [
      "abcd\n",
      "a\n",
      "a\n",
      "a\n"
     ]
    }
   ],
   "source": [
    "x = \"abcd\"\n",
    "for i in range(len(x)):\n",
    "    print(x)\n",
    "    x = \"a\""
   ]
  },
  {
   "cell_type": "code",
   "execution_count": 1,
   "metadata": {},
   "outputs": [
    {
     "name": "stdout",
     "output_type": "stream",
     "text": [
      "Welcome to Coding Ninjas\n",
      "emocleW ot gnidoC sajniN\n"
     ]
    }
   ],
   "source": [
    "#Reverse word wise\n",
    "\n",
    "s = input()\n",
    "ans = \"\"\n",
    "cs = 0\n",
    "ce = 0\n",
    "for i in range(0,len(s)):\n",
    "    if s[i]==' ':\n",
    "        for j in range(ce-1,cs-1, -1):\n",
    "            ans+=s[j]\n",
    "        ans+=' '\n",
    "        cs=ce+1\n",
    "        ce+=1\n",
    "    else:\n",
    "        ce+=1\n",
    "for i in range(-1,-1*len(s),-1):\n",
    "    if s[i]!=\" \":\n",
    "        ans+=s[i]\n",
    "    else:\n",
    "        break\n",
    "print(ans)"
   ]
  },
  {
   "cell_type": "code",
   "execution_count": 6,
   "metadata": {},
   "outputs": [
    {
     "name": "stdout",
     "output_type": "stream",
     "text": [
      "First Number:3\n",
      "Second Number:9\n",
      "12\n"
     ]
    }
   ],
   "source": [
    "#function\n",
    "\n",
    "def add(a,b):\n",
    "    return (a+b)\n",
    "\n",
    "\n",
    "a = int(input(\"First Number:\"))\n",
    "b = int(input(\"Second Number:\"))\n",
    "print(add(a,b))"
   ]
  },
  {
   "cell_type": "code",
   "execution_count": 10,
   "metadata": {},
   "outputs": [
    {
     "name": "stdout",
     "output_type": "stream",
     "text": [
      "24\n",
      "16\n"
     ]
    }
   ],
   "source": [
    "#Default arguments to a function\n",
    "\n",
    "def power(x,y=2): \n",
    "    return x**y\n",
    "\n",
    "def sum(a=12,b=1,c=2):\n",
    "    return a+b+c\n",
    "\n",
    "print(sum(b=10))\n",
    "#print function also goes this way when we specify end = \" \"\n",
    "\n",
    "print(power(2,4))"
   ]
  },
  {
   "cell_type": "code",
   "execution_count": 1,
   "metadata": {},
   "outputs": [
    {
     "name": "stdout",
     "output_type": "stream",
     "text": [
      "<class 'tuple'>\n",
      "(14, 17)\n"
     ]
    }
   ],
   "source": [
    "#variable number of inputs to a function\n",
    "\n",
    "def sum_variable(a,b,*more):\n",
    "    print(type(more))\n",
    "    print(more)\n",
    "    \n",
    "sum_variable(10,12,14,17)"
   ]
  },
  {
   "cell_type": "code",
   "execution_count": 5,
   "metadata": {},
   "outputs": [
    {
     "name": "stdout",
     "output_type": "stream",
     "text": [
      "38\n"
     ]
    }
   ],
   "source": [
    "#variable number of inputs to a function\n",
    "\n",
    "def sum_variable(a,b,*more):\n",
    "    ans = a+b\n",
    "    for i in more:\n",
    "        ans+=i\n",
    "    return ans\n",
    "\n",
    "print(sum_variable(2,3,10,23))"
   ]
  },
  {
   "cell_type": "code",
   "execution_count": 2,
   "metadata": {},
   "outputs": [
    {
     "name": "stdout",
     "output_type": "stream",
     "text": [
      "Shiv and Agrima\n",
      "(6, 2, 3)\n",
      "{'sneaky': True, 'agile': True, 'honest': True}\n"
     ]
    }
   ],
   "source": [
    "#packing of variables in a tuple and dictionary\n",
    "def sample(a,b,*args,**kwargs):\n",
    "    print(\"{} and {}\".format(a,b))\n",
    "    print(args)\n",
    "    print(kwargs)\n",
    "\n",
    "sample(\"Shiv\",\"Agrima\",6,2,3,sneaky=True,agile=True,honest=True)"
   ]
  },
  {
   "cell_type": "code",
   "execution_count": 9,
   "metadata": {},
   "outputs": [
    {
     "name": "stdout",
     "output_type": "stream",
     "text": [
      "32\n"
     ]
    }
   ],
   "source": [
    "#returning multiple values\n",
    "\n",
    "def dummy(a,b):\n",
    "    return a+b,a-b\n",
    "\n",
    "sum1,diff1=dummy(10,22)\n",
    "print(sum1)"
   ]
  },
  {
   "cell_type": "code",
   "execution_count": 10,
   "metadata": {},
   "outputs": [
    {
     "name": "stdout",
     "output_type": "stream",
     "text": [
      "50\n"
     ]
    }
   ],
   "source": [
    "x=50\n",
    "def change(x):\n",
    "    x=2\n",
    "change(x)\n",
    "print(x)"
   ]
  },
  {
   "cell_type": "code",
   "execution_count": 19,
   "metadata": {},
   "outputs": [
    {
     "name": "stdout",
     "output_type": "stream",
     "text": [
      "89\n",
      "(1, 2, 4)\n"
     ]
    }
   ],
   "source": [
    "n = int(input())\n",
    "tup1 = (n%2,)\n",
    "n//=2\n",
    "tup1+=(n%3,)\n",
    "n//=3\n",
    "tup1+=(n%5,)\n",
    "print(tup1)"
   ]
  },
  {
   "cell_type": "code",
   "execution_count": 24,
   "metadata": {},
   "outputs": [
    {
     "name": "stdout",
     "output_type": "stream",
     "text": [
      "12\n",
      "(0, 0)\n",
      "(0, 0, 1)\n",
      "(0, 0, 1, 1)\n",
      "1100\n"
     ]
    }
   ],
   "source": [
    "binary = 0\n",
    "n = int(input())\n",
    "\n",
    "tup1 = (n%2,)\n",
    "n//=2\n",
    "while n!=0:\n",
    "  tup1+=(n%2,)\n",
    "  print(tup1)\n",
    "  n//=2\n",
    "\n",
    "for i in range(len(tup1)-1,-1,-1):\n",
    "  binary=binary*10+tup1[i]\n",
    "  \n",
    "print(binary)"
   ]
  },
  {
   "cell_type": "code",
   "execution_count": 30,
   "metadata": {},
   "outputs": [
    {
     "name": "stdout",
     "output_type": "stream",
     "text": [
      "10\n",
      "2\n",
      "3\n",
      "5\n",
      "7\n"
     ]
    }
   ],
   "source": [
    "n = int(input())\n",
    "\n",
    "def prime(a):\n",
    "  for i in range(2,int(a**0.5)+1):\n",
    "    if a%i==0:\n",
    "      return False\n",
    "  return True\n",
    "\n",
    "for i in range(2,n+1):\n",
    "  if prime(i):\n",
    "    print(i)"
   ]
  },
  {
   "cell_type": "code",
   "execution_count": 29,
   "metadata": {},
   "outputs": [
    {
     "name": "stdout",
     "output_type": "stream",
     "text": [
      "3\n"
     ]
    }
   ],
   "source": [
    "print(int(10**0.5))"
   ]
  },
  {
   "cell_type": "code",
   "execution_count": 3,
   "metadata": {},
   "outputs": [
    {
     "name": "stdout",
     "output_type": "stream",
     "text": [
      "Please enter the number of rows:5\n",
      "1        1\n",
      "12      21\n",
      "123    321\n",
      "1234  4321\n",
      "1234554321\n"
     ]
    }
   ],
   "source": [
    "n = int(input(\"Please enter the number of rows:\"))\n",
    "for i in range(1,n+1):\n",
    "    for j in range(1,i+1):\n",
    "        print(j, end = \"\")\n",
    "    for k in range(n-i):\n",
    "        print(\" \",end = \"\")l\n",
    "    for k in range(n-i):\n",
    "        print(\" \",end = \"\")\n",
    "    for j in range(i,0,-1):\n",
    "        print(j, end = \"\")\n",
    "    print()"
   ]
  },
  {
   "cell_type": "code",
   "execution_count": 14,
   "metadata": {},
   "outputs": [
    {
     "name": "stdout",
     "output_type": "stream",
     "text": [
      "Welcome to coding ninjas\n",
      "emocleW ot gnidoc sajnin\n"
     ]
    }
   ],
   "source": [
    "s = input()\n",
    "ts = 0\n",
    "te = 0\n",
    "ans = \"\"\n",
    "temp = \"\"\n",
    "for i in range(len(s)+1):\n",
    "    if i == len(s):\n",
    "        te=i+1\n",
    "        temp = s[ts:te]\n",
    "        for j in range(-1,-len(temp)-1,-1):\n",
    "            ans+=temp[j]\n",
    "        break\n",
    "    elif s[i]==\" \":\n",
    "        te = i\n",
    "        temp = s[ts:te]\n",
    "        for j in range(-1,-len(temp)-1,-1):\n",
    "            ans+=temp[j]\n",
    "        ans+=\" \"\n",
    "        ts=i+1\n",
    "        te=ts\n",
    "print(ans)"
   ]
  },
  {
   "cell_type": "code",
   "execution_count": 1,
   "metadata": {},
   "outputs": [
    {
     "name": "stdout",
     "output_type": "stream",
     "text": [
      "2.0\n"
     ]
    }
   ],
   "source": [
    "print(4**(1/2))"
   ]
  },
  {
   "cell_type": "code",
   "execution_count": 9,
   "metadata": {},
   "outputs": [
    {
     "name": "stdout",
     "output_type": "stream",
     "text": [
      "11\n",
      "2\n",
      "3\n",
      "5\n",
      "7\n",
      "11\n"
     ]
    }
   ],
   "source": [
    "n = int(input())\n",
    "\n",
    "def prime(i):\n",
    "    for j in range(2,i):\n",
    "        if i%j==0:\n",
    "            return 0\n",
    "    return 1\n",
    "\n",
    "for i in range(2,n+1):\n",
    "    if prime(i):\n",
    "        print(i)"
   ]
  },
  {
   "cell_type": "code",
   "execution_count": 3,
   "metadata": {},
   "outputs": [
    {
     "name": "stdout",
     "output_type": "stream",
     "text": [
      "8\n",
      "10\n"
     ]
    }
   ],
   "source": [
    "n = int(input())\n",
    "\n",
    "prev=0\n",
    "current=2\n",
    "sum=0\n",
    "while current<=n:\n",
    "    sum+=current\n",
    "    temp=current*4+prev\n",
    "    prev=current\n",
    "    current=temp\n",
    "print(sum)"
   ]
  },
  {
   "cell_type": "code",
   "execution_count": 10,
   "metadata": {},
   "outputs": [
    {
     "name": "stdout",
     "output_type": "stream",
     "text": [
      "6\n",
      "0\n"
     ]
    }
   ],
   "source": [
    "l = [1,2,3,4,5,6,0]\n",
    "\n",
    "print(max(l))\n",
    "print(min(l))"
   ]
  },
  {
   "cell_type": "code",
   "execution_count": 18,
   "metadata": {},
   "outputs": [
    {
     "name": "stdout",
     "output_type": "stream",
     "text": [
      "9 8 7 6\n",
      "[6, 7, 8, 9]\n"
     ]
    }
   ],
   "source": [
    "#Bubble sort\n",
    "\n",
    "l =[int(x) for x in input().strip().split()] \n",
    "\n",
    "n = len(l)\n",
    "\n",
    "for i in range(n-1):\n",
    "    for j in range(0,n-1-i):\n",
    "        if l[j]>l[j+1]:\n",
    "            t = l[j]\n",
    "            l[j]=l[j+1]\n",
    "            l[j+1]=t\n",
    "print(l)"
   ]
  },
  {
   "cell_type": "code",
   "execution_count": 36,
   "metadata": {},
   "outputs": [
    {
     "name": "stdout",
     "output_type": "stream",
     "text": [
      "9 8 7 6 5 4 3 2 1\n",
      "[1, 2, 3, 4, 5, 6, 7, 8, 9]\n"
     ]
    }
   ],
   "source": [
    "#Selection Sort\n",
    "\n",
    "l = [int(x) for x in input().strip().split()]\n",
    "\n",
    "m = 0 \n",
    "n = len(l)\n",
    "for i in range(n-1):\n",
    "    m=i\n",
    "    for j in range(i,n):\n",
    "        if l[m]>l[j]:\n",
    "            m=j\n",
    "    temp = l[m]\n",
    "    l[m] = l[i]\n",
    "    l[i] = temp\n",
    "print(l)"
   ]
  },
  {
   "cell_type": "code",
   "execution_count": 39,
   "metadata": {},
   "outputs": [
    {
     "name": "stdout",
     "output_type": "stream",
     "text": [
      "-7 1 5 2 -4 3 0\n",
      "3\n"
     ]
    }
   ],
   "source": [
    "#Array equilibrium index\n",
    "\n",
    "l = [int(x) for x in input().strip().split()]\n",
    "\n",
    "n = len(l)\n",
    "\n",
    "sum = 0\n",
    "\n",
    "for x in l:\n",
    "    sum+=x\n",
    "    \n",
    "ls=0\n",
    "rs=0\n",
    "flag=0\n",
    "for i in range(1,n):\n",
    "    ls+=l[i-1]\n",
    "    rs = sum-ls-l[i]\n",
    "    if ls==rs:\n",
    "        print(i)\n",
    "        flag=1\n",
    "        break\n",
    "if flag==0:\n",
    "    print(-1)"
   ]
  },
  {
   "cell_type": "code",
   "execution_count": null,
   "metadata": {
    "collapsed": true
   },
   "outputs": [],
   "source": []
  }
 ],
 "metadata": {
  "kernelspec": {
   "display_name": "Python 3",
   "language": "python",
   "name": "python3"
  },
  "language_info": {
   "codemirror_mode": {
    "name": "ipython",
    "version": 3
   },
   "file_extension": ".py",
   "mimetype": "text/x-python",
   "name": "python",
   "nbconvert_exporter": "python",
   "pygments_lexer": "ipython3",
   "version": "3.6.3"
  }
 },
 "nbformat": 4,
 "nbformat_minor": 2
}
