{
 "cells": [
  {
   "cell_type": "markdown",
   "metadata": {},
   "source": [
    "## Intro to Python\n",
    "\n",
    "File 1\n",
    "\n",
    "We can put code in our notebooks. *We need to choose accordingly in the drop down menu for each cell.* We can add description, etc using markdown.\n",
    "\n",
    "The variables used are for the entire session. If changed, in any of the cells then on running any cell among the ones above, will result in changes being reflected. That is what these numbers of the side indicate. \n",
    "\n",
    "This contains information about printing, taking input, typecasting, tuples, strings, math operators."
   ]
  },
  {
   "cell_type": "code",
   "execution_count": 11,
   "metadata": {},
   "outputs": [
    {
     "name": "stdout",
     "output_type": "stream",
     "text": [
      "Please enter the first number:12\n",
      "12 : <class 'str'>\n"
     ]
    }
   ],
   "source": [
    "a = input(\"Please enter the first number:\")\n",
    "print(a,end = \" : \")\n",
    "print(type(a))"
   ]
  },
  {
   "cell_type": "code",
   "execution_count": 12,
   "metadata": {},
   "outputs": [
    {
     "name": "stdout",
     "output_type": "stream",
     "text": [
      "<class 'str'>\n"
     ]
    }
   ],
   "source": [
    "print(type(a))"
   ]
  },
  {
   "cell_type": "code",
   "execution_count": 13,
   "metadata": {},
   "outputs": [
    {
     "name": "stdout",
     "output_type": "stream",
     "text": [
      "Please enter the first number:12\n",
      "<class 'int'>\n"
     ]
    }
   ],
   "source": [
    "a = int(input(\"Please enter the first number:\"))\n",
    "print(type(a))"
   ]
  },
  {
   "cell_type": "code",
   "execution_count": 13,
   "metadata": {},
   "outputs": [
    {
     "name": "stdout",
     "output_type": "stream",
     "text": [
      "Please enter the first complex number:2+4j\n",
      "Please enter the second complex number:3+9j\n",
      "(5+13j)\n",
      "<class 'complex'>\n"
     ]
    }
   ],
   "source": [
    "a = complex(input(\"Please enter the first complex number:\"))\n",
    "b = complex(input(\"Please enter the second complex number:\"))\n",
    "print(a+b)\n",
    "print(type(a))"
   ]
  },
  {
   "cell_type": "code",
   "execution_count": 14,
   "metadata": {},
   "outputs": [
    {
     "name": "stdout",
     "output_type": "stream",
     "text": [
      "2.0 2\n"
     ]
    }
   ],
   "source": [
    "a = 20\n",
    "b = 10\n",
    "print(a/b,end = \" \")\n",
    "print(a//b)"
   ]
  },
  {
   "cell_type": "code",
   "execution_count": 16,
   "metadata": {},
   "outputs": [
    {
     "name": "stdout",
     "output_type": "stream",
     "text": [
      "2\n",
      "1024\n"
     ]
    }
   ],
   "source": [
    "a = 2\n",
    "b = 10\n",
    "print(a%b)\n",
    "print(a**b)"
   ]
  },
  {
   "cell_type": "code",
   "execution_count": 1,
   "metadata": {},
   "outputs": [
    {
     "name": "stdout",
     "output_type": "stream",
     "text": [
      "a:15\n",
      "b:20\n"
     ]
    }
   ],
   "source": [
    "#tuple input\n",
    "\n",
    "a,b = int(input(\"a:\")),int(input(\"b:\"))"
   ]
  },
  {
   "cell_type": "code",
   "execution_count": 24,
   "metadata": {},
   "outputs": [
    {
     "name": "stdout",
     "output_type": "stream",
     "text": [
      "Hello, enter first number:256\n",
      "len(a): 3 2\n"
     ]
    }
   ],
   "source": [
    "a = input(\"Hello, enter first number:\")\n",
    "print(\"len(a):\",len(a),end = \" \")\n",
    "print(a[0])\n",
    "\n",
    "#strings are immutable\n",
    "#char type is not present"
   ]
  },
  {
   "cell_type": "code",
   "execution_count": 15,
   "metadata": {},
   "outputs": [
    {
     "name": "stdout",
     "output_type": "stream",
     "text": [
      "ABC\n",
      "abc\n",
      "   abc   \n",
      "abc\n",
      "['abc']\n",
      "True\n"
     ]
    }
   ],
   "source": [
    "a = \"abc\"\n",
    "a = a.upper()\n",
    "print(a)\n",
    "\n",
    "b = \"ABC\"\n",
    "b = b.lower()\n",
    "print(b)\n",
    "\n",
    "c = \"   abc   \"\n",
    "print(c)\n",
    "d = c.strip()\n",
    "print(d)\n",
    "\n",
    "#Splits the string into a list around any whitespace. If specific needed then that can be passed as an argument\n",
    "e = c.split()\n",
    "print(e)\n",
    "print(d.isalpha())"
   ]
  },
  {
   "cell_type": "code",
   "execution_count": 35,
   "metadata": {},
   "outputs": [
    {
     "data": {
      "text/plain": [
       "(1, 200, 800, 10)"
      ]
     },
     "execution_count": 35,
     "metadata": {},
     "output_type": "execute_result"
    }
   ],
   "source": [
    "#tuple declaration\n",
    "\n",
    "abc=1,200,800,10\n",
    "abc"
   ]
  },
  {
   "cell_type": "code",
   "execution_count": 39,
   "metadata": {},
   "outputs": [
    {
     "name": "stdout",
     "output_type": "stream",
     "text": [
      "abcd\n",
      "a a\n"
     ]
    }
   ],
   "source": [
    "s = \"abcd\"\n",
    "s.upper()\n",
    "print(s)\n",
    "\n",
    "#indexing can be done in both directions. The first index moving from left to right is 0 and goes on till n-1 \n",
    "#whereas moving from right to left, the indexing ranges from(-1 to -n)\n",
    "\n",
    "d = s[0]\n",
    "e = s[-4]\n",
    "\n",
    "print(d,e)"
   ]
  },
  {
   "cell_type": "code",
   "execution_count": 17,
   "metadata": {},
   "outputs": [
    {
     "name": "stdout",
     "output_type": "stream",
     "text": [
      "bcd bc bd\n"
     ]
    }
   ],
   "source": [
    "#slicing : We can define both start and end of the string according to the part we require in the other string.\n",
    "#the left index is included but the right one isn't. Jump size can also be defined.\n",
    "\n",
    "s = \"abcd\"\n",
    "a = s[1:4]\n",
    "b = s[-3 : -1]\n",
    "c = s[1:4:2]\n",
    "print(a,b,c)"
   ]
  },
  {
   "cell_type": "code",
   "execution_count": 10,
   "metadata": {},
   "outputs": [
    {
     "data": {
      "text/plain": [
       "'cd'"
      ]
     },
     "execution_count": 10,
     "metadata": {},
     "output_type": "execute_result"
    }
   ],
   "source": [
    "\"abcd\"[2:]"
   ]
  },
  {
   "cell_type": "code",
   "execution_count": 9,
   "metadata": {},
   "outputs": [
    {
     "name": "stdout",
     "output_type": "stream",
     "text": [
      "<class 'tuple'>\n",
      "<class 'tuple'>\n",
      "23dd\n"
     ]
    }
   ],
   "source": [
    "#tuple\n",
    "#Tuples are immutable i.e. Tuple elements can't be reassigned. \n",
    "#Tuples allow slicing as seen with an array\n",
    "t = (1,2,3)\n",
    "\n",
    "#The main declaration part is the comma and not the paranthesis. We can remove it and this will still work.\n",
    "type(t)\n",
    "\n",
    "t1=()\n",
    "print(type(t1))\n",
    "\n",
    "#can store different kinds of data bundled together\n",
    "s = (1,'ab','23dd')\n",
    "print(type(s))\n",
    "\n",
    "print(s[2])\n",
    "\n"
   ]
  },
  {
   "cell_type": "code",
   "execution_count": 8,
   "metadata": {},
   "outputs": [
    {
     "name": "stdout",
     "output_type": "stream",
     "text": [
      "(1, 2, 3, 4, 5)\n",
      "5\n",
      "5\n",
      "(2, 3)\n"
     ]
    }
   ],
   "source": [
    "#Tuples and list functions. Tuples can be regarded as immutable lists\n",
    "\n",
    "t = (1,2,3,4)\n",
    "t=t+(5,)\n",
    "print(t)\n",
    "print(max(t))\n",
    "print(len(t))\n",
    "print(t[1:3])"
   ]
  }
 ],
 "metadata": {
  "kernelspec": {
   "display_name": "Python 3",
   "language": "python",
   "name": "python3"
  },
  "language_info": {
   "codemirror_mode": {
    "name": "ipython",
    "version": 3
   },
   "file_extension": ".py",
   "mimetype": "text/x-python",
   "name": "python",
   "nbconvert_exporter": "python",
   "pygments_lexer": "ipython3",
   "version": "3.6.3"
  }
 },
 "nbformat": 4,
 "nbformat_minor": 2
}
