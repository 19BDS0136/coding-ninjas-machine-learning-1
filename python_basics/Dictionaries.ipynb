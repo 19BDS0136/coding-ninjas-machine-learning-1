{
 "cells": [
  {
   "cell_type": "code",
   "execution_count": 4,
   "metadata": {},
   "outputs": [
    {
     "name": "stdout",
     "output_type": "stream",
     "text": [
      "{23: 32, 'str': 345}\n"
     ]
    },
    {
     "data": {
      "text/plain": [
       "{23: 32, 'str': 322}"
      ]
     },
     "execution_count": 4,
     "metadata": {},
     "output_type": "execute_result"
    }
   ],
   "source": [
    "#Dictionary is analogous to maps or hashmaps in c++ and java\n",
    "#It has key value pairs in it, and the key can be anything ranging\n",
    "#from tuple,string, integers,etc.\n",
    "\n",
    "d = {}#method of creating dictionaries\n",
    "d[23] = 32#adding element associated with a certain key\n",
    "d['str']=345\n",
    "print(d)\n",
    "d = {23:32,\"str\":322}#creating dictionary\n",
    "with initial value\n",
    "\n",
    "#value gets inserted if the key is not already present else the value \n",
    "#associated to the already present key gets updated\n",
    "\n",
    "#keys of the dictionary have to be immutable, hence lists can't be keys\n",
    "#tuples,strings can be keys\n",
    "#But lists can be used as values\n",
    "\n",
    "#If key is not present and we try to access it then, key error will \n",
    "#come in\n",
    "d"
   ]
  },
  {
   "cell_type": "code",
   "execution_count": 5,
   "metadata": {},
   "outputs": [
    {
     "name": "stdout",
     "output_type": "stream",
     "text": [
      "23:32\n",
      "str:322\n"
     ]
    }
   ],
   "source": [
    "#Fast Iteration or how to iterate over a dictionary\n",
    "\n",
    "for i in d:\n",
    "    print(i, end=\":\")\n",
    "    print(d[i])"
   ]
  },
  {
   "cell_type": "code",
   "execution_count": 6,
   "metadata": {},
   "outputs": [
    {
     "data": {
      "text/plain": [
       "{'str': 322}"
      ]
     },
     "execution_count": 6,
     "metadata": {},
     "output_type": "execute_result"
    }
   ],
   "source": [
    "#Deleting elements in dictionary\n",
    "\n",
    "del d[23]\n",
    "d"
   ]
  },
  {
   "cell_type": "code",
   "execution_count": 13,
   "metadata": {},
   "outputs": [
    {
     "name": "stdout",
     "output_type": "stream",
     "text": [
      "1\n",
      "dict_keys([3])\n",
      "dict_values([1])\n"
     ]
    },
    {
     "data": {
      "text/plain": [
       "True"
      ]
     },
     "execution_count": 13,
     "metadata": {},
     "output_type": "execute_result"
    }
   ],
   "source": [
    "#Common Functions\n",
    "\n",
    "d1={1:2}\n",
    "d2={3:1}\n",
    "\n",
    "d1==d2#Bool comparing dictionaries based on keys and value pairs, when \n",
    "#all are same, then only is true returned, in all other cases false is \n",
    "#returned\n",
    "\n",
    "print(len(d))\n",
    "d1.clear()\n",
    "d1\n",
    "print(d2.keys())\n",
    "print(d2.values())\n",
    "\n",
    "3 in d2#bool to check existence of key in dictionary"
   ]
  },
  {
   "cell_type": "code",
   "execution_count": null,
   "metadata": {
    "collapsed": true
   },
   "outputs": [],
   "source": []
  }
 ],
 "metadata": {
  "kernelspec": {
   "display_name": "Python 3",
   "language": "python",
   "name": "python3"
  },
  "language_info": {
   "codemirror_mode": {
    "name": "ipython",
    "version": 3
   },
   "file_extension": ".py",
   "mimetype": "text/x-python",
   "name": "python",
   "nbconvert_exporter": "python",
   "pygments_lexer": "ipython3",
   "version": "3.6.3"
  }
 },
 "nbformat": 4,
 "nbformat_minor": 2
}
